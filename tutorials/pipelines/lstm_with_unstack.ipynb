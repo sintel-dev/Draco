{
 "cells": [
  {
   "cell_type": "markdown",
   "metadata": {},
   "source": [
    "# lstm_with_unstack"
   ]
  },
  {
   "cell_type": "code",
   "execution_count": 1,
   "metadata": {},
   "outputs": [],
   "source": [
    "from draco.demo import load_demo\n",
    "\n",
    "target_times, readings = load_demo()"
   ]
  },
  {
   "cell_type": "code",
   "execution_count": 2,
   "metadata": {},
   "outputs": [],
   "source": [
    "pipeline_name = 'lstm_with_unstack'"
   ]
  },
  {
   "cell_type": "code",
   "execution_count": 3,
   "metadata": {},
   "outputs": [],
   "source": [
    "from draco.pipeline import DracoPipeline\n",
    "\n",
    "pipeline = DracoPipeline(pipeline_name)"
   ]
  },
  {
   "cell_type": "code",
   "execution_count": 4,
   "metadata": {},
   "outputs": [
    {
     "data": {
      "text/plain": [
       "['mlblocks.MLPipeline',\n",
       " 'pandas.DataFrame.pop',\n",
       " 'pandas.DataFrame.pop',\n",
       " 'sklearn.impute.SimpleImputer',\n",
       " 'sklearn.preprocessing.MinMaxScaler',\n",
       " 'pandas.DataFrame',\n",
       " 'pandas.DataFrame.set',\n",
       " 'pandas.DataFrame.set',\n",
       " 'mlprimitives.custom.timeseries_preprocessing.cutoff_window_sequences',\n",
       " 'keras.Sequential.LSTMTimeSeriesClassifier']"
      ]
     },
     "execution_count": 4,
     "metadata": {},
     "output_type": "execute_result"
    }
   ],
   "source": [
    "pipeline.template['primitives']"
   ]
  },
  {
   "cell_type": "markdown",
   "metadata": {},
   "source": [
    "# Step by Step execution"
   ]
  },
  {
   "cell_type": "markdown",
   "metadata": {},
   "source": [
    "## Input Data"
   ]
  },
  {
   "cell_type": "code",
   "execution_count": 5,
   "metadata": {},
   "outputs": [
    {
     "data": {
      "text/html": [
       "<div>\n",
       "<style scoped>\n",
       "    .dataframe tbody tr th:only-of-type {\n",
       "        vertical-align: middle;\n",
       "    }\n",
       "\n",
       "    .dataframe tbody tr th {\n",
       "        vertical-align: top;\n",
       "    }\n",
       "\n",
       "    .dataframe thead th {\n",
       "        text-align: right;\n",
       "    }\n",
       "</style>\n",
       "<table border=\"1\" class=\"dataframe\">\n",
       "  <thead>\n",
       "    <tr style=\"text-align: right;\">\n",
       "      <th></th>\n",
       "      <th>turbine_id</th>\n",
       "      <th>signal_id</th>\n",
       "      <th>timestamp</th>\n",
       "      <th>value</th>\n",
       "    </tr>\n",
       "  </thead>\n",
       "  <tbody>\n",
       "    <tr>\n",
       "      <th>0</th>\n",
       "      <td>T001</td>\n",
       "      <td>S01</td>\n",
       "      <td>2013-01-10</td>\n",
       "      <td>323.0</td>\n",
       "    </tr>\n",
       "    <tr>\n",
       "      <th>1</th>\n",
       "      <td>T001</td>\n",
       "      <td>S02</td>\n",
       "      <td>2013-01-10</td>\n",
       "      <td>320.0</td>\n",
       "    </tr>\n",
       "    <tr>\n",
       "      <th>2</th>\n",
       "      <td>T001</td>\n",
       "      <td>S03</td>\n",
       "      <td>2013-01-10</td>\n",
       "      <td>284.0</td>\n",
       "    </tr>\n",
       "    <tr>\n",
       "      <th>3</th>\n",
       "      <td>T001</td>\n",
       "      <td>S04</td>\n",
       "      <td>2013-01-10</td>\n",
       "      <td>348.0</td>\n",
       "    </tr>\n",
       "    <tr>\n",
       "      <th>4</th>\n",
       "      <td>T001</td>\n",
       "      <td>S05</td>\n",
       "      <td>2013-01-10</td>\n",
       "      <td>273.0</td>\n",
       "    </tr>\n",
       "  </tbody>\n",
       "</table>\n",
       "</div>"
      ],
      "text/plain": [
       "  turbine_id signal_id  timestamp  value\n",
       "0       T001       S01 2013-01-10  323.0\n",
       "1       T001       S02 2013-01-10  320.0\n",
       "2       T001       S03 2013-01-10  284.0\n",
       "3       T001       S04 2013-01-10  348.0\n",
       "4       T001       S05 2013-01-10  273.0"
      ]
     },
     "execution_count": 5,
     "metadata": {},
     "output_type": "execute_result"
    }
   ],
   "source": [
    "readings.head()"
   ]
  },
  {
   "cell_type": "code",
   "execution_count": 6,
   "metadata": {},
   "outputs": [
    {
     "data": {
      "text/html": [
       "<div>\n",
       "<style scoped>\n",
       "    .dataframe tbody tr th:only-of-type {\n",
       "        vertical-align: middle;\n",
       "    }\n",
       "\n",
       "    .dataframe tbody tr th {\n",
       "        vertical-align: top;\n",
       "    }\n",
       "\n",
       "    .dataframe thead th {\n",
       "        text-align: right;\n",
       "    }\n",
       "</style>\n",
       "<table border=\"1\" class=\"dataframe\">\n",
       "  <thead>\n",
       "    <tr style=\"text-align: right;\">\n",
       "      <th></th>\n",
       "      <th>turbine_id</th>\n",
       "      <th>cutoff_time</th>\n",
       "      <th>target</th>\n",
       "    </tr>\n",
       "  </thead>\n",
       "  <tbody>\n",
       "    <tr>\n",
       "      <th>0</th>\n",
       "      <td>T001</td>\n",
       "      <td>2013-01-12</td>\n",
       "      <td>0</td>\n",
       "    </tr>\n",
       "    <tr>\n",
       "      <th>1</th>\n",
       "      <td>T001</td>\n",
       "      <td>2013-01-13</td>\n",
       "      <td>0</td>\n",
       "    </tr>\n",
       "    <tr>\n",
       "      <th>2</th>\n",
       "      <td>T001</td>\n",
       "      <td>2013-01-14</td>\n",
       "      <td>0</td>\n",
       "    </tr>\n",
       "    <tr>\n",
       "      <th>3</th>\n",
       "      <td>T001</td>\n",
       "      <td>2013-01-15</td>\n",
       "      <td>1</td>\n",
       "    </tr>\n",
       "    <tr>\n",
       "      <th>4</th>\n",
       "      <td>T001</td>\n",
       "      <td>2013-01-16</td>\n",
       "      <td>0</td>\n",
       "    </tr>\n",
       "  </tbody>\n",
       "</table>\n",
       "</div>"
      ],
      "text/plain": [
       "  turbine_id cutoff_time  target\n",
       "0       T001  2013-01-12       0\n",
       "1       T001  2013-01-13       0\n",
       "2       T001  2013-01-14       0\n",
       "3       T001  2013-01-15       1\n",
       "4       T001  2013-01-16       0"
      ]
     },
     "execution_count": 6,
     "metadata": {},
     "output_type": "execute_result"
    }
   ],
   "source": [
    "target_times.head()"
   ]
  },
  {
   "cell_type": "markdown",
   "metadata": {},
   "source": [
    "## Data Preparation (part of Draco Pipeline)\n",
    "\n",
    "* Input: target_times, readings, turbines\n",
    "* Output: X, y, readings, turbines\n",
    "* Effect: target_times has been split into X and y"
   ]
  },
  {
   "cell_type": "markdown",
   "metadata": {},
   "source": [
    "## mlblocks.MLPipeline\n",
    "\n",
    "### pandas.DataFrame.resample\n",
    "\n",
    "* Input: readings\n",
    "* Output: readings (resampled)\n",
    "* Effect: readings have been resampled to the indicated resample rule and turbine_id,\n",
    "  signal_id and timestamp have been set as a multi-index\n",
    "  \n",
    "### pandas.DataFrame.unstack\n",
    "\n",
    "* Input: readings (resampled)\n",
    "* Output: readings (unstacked)\n",
    "* Effect: readings have been unstacked"
   ]
  },
  {
   "cell_type": "code",
   "execution_count": 7,
   "metadata": {},
   "outputs": [],
   "source": [
    "context = pipeline.fit(target_times, readings, output_=0)"
   ]
  },
  {
   "cell_type": "code",
   "execution_count": 8,
   "metadata": {},
   "outputs": [
    {
     "data": {
      "text/plain": [
       "dict_keys(['readings', 'turbines', 'X', 'y'])"
      ]
     },
     "execution_count": 8,
     "metadata": {},
     "output_type": "execute_result"
    }
   ],
   "source": [
    "context.keys()"
   ]
  },
  {
   "cell_type": "code",
   "execution_count": 9,
   "metadata": {},
   "outputs": [
    {
     "data": {
      "text/html": [
       "<div>\n",
       "<style scoped>\n",
       "    .dataframe tbody tr th:only-of-type {\n",
       "        vertical-align: middle;\n",
       "    }\n",
       "\n",
       "    .dataframe tbody tr th {\n",
       "        vertical-align: top;\n",
       "    }\n",
       "\n",
       "    .dataframe thead th {\n",
       "        text-align: right;\n",
       "    }\n",
       "</style>\n",
       "<table border=\"1\" class=\"dataframe\">\n",
       "  <thead>\n",
       "    <tr style=\"text-align: right;\">\n",
       "      <th></th>\n",
       "      <th>turbine_id</th>\n",
       "      <th>timestamp</th>\n",
       "      <th>value_S01</th>\n",
       "      <th>value_S02</th>\n",
       "      <th>value_S03</th>\n",
       "      <th>value_S04</th>\n",
       "      <th>value_S05</th>\n",
       "      <th>value_S06</th>\n",
       "      <th>value_S07</th>\n",
       "      <th>value_S08</th>\n",
       "      <th>...</th>\n",
       "      <th>value_S17</th>\n",
       "      <th>value_S18</th>\n",
       "      <th>value_S19</th>\n",
       "      <th>value_S20</th>\n",
       "      <th>value_S21</th>\n",
       "      <th>value_S22</th>\n",
       "      <th>value_S23</th>\n",
       "      <th>value_S24</th>\n",
       "      <th>value_S25</th>\n",
       "      <th>value_S26</th>\n",
       "    </tr>\n",
       "  </thead>\n",
       "  <tbody>\n",
       "    <tr>\n",
       "      <th>0</th>\n",
       "      <td>T001</td>\n",
       "      <td>2013-01-10 00:00:00</td>\n",
       "      <td>323.0</td>\n",
       "      <td>320.0</td>\n",
       "      <td>284.0</td>\n",
       "      <td>348.0</td>\n",
       "      <td>273.0</td>\n",
       "      <td>342.0</td>\n",
       "      <td>280.0</td>\n",
       "      <td>3197842.0</td>\n",
       "      <td>...</td>\n",
       "      <td>11.7</td>\n",
       "      <td>3131020.0</td>\n",
       "      <td>55.0</td>\n",
       "      <td>55.0</td>\n",
       "      <td>47.0</td>\n",
       "      <td>58.0</td>\n",
       "      <td>45.0</td>\n",
       "      <td>58.0</td>\n",
       "      <td>47.0</td>\n",
       "      <td>356.0</td>\n",
       "    </tr>\n",
       "    <tr>\n",
       "      <th>1</th>\n",
       "      <td>T001</td>\n",
       "      <td>2013-01-10 00:10:00</td>\n",
       "      <td>346.0</td>\n",
       "      <td>384.0</td>\n",
       "      <td>367.0</td>\n",
       "      <td>411.0</td>\n",
       "      <td>331.0</td>\n",
       "      <td>360.0</td>\n",
       "      <td>249.0</td>\n",
       "      <td>3197900.0</td>\n",
       "      <td>...</td>\n",
       "      <td>10.2</td>\n",
       "      <td>3131420.0</td>\n",
       "      <td>58.0</td>\n",
       "      <td>63.0</td>\n",
       "      <td>62.0</td>\n",
       "      <td>67.0</td>\n",
       "      <td>55.0</td>\n",
       "      <td>61.0</td>\n",
       "      <td>42.0</td>\n",
       "      <td>400.0</td>\n",
       "    </tr>\n",
       "    <tr>\n",
       "      <th>2</th>\n",
       "      <td>T001</td>\n",
       "      <td>2013-01-10 00:20:00</td>\n",
       "      <td>407.0</td>\n",
       "      <td>363.0</td>\n",
       "      <td>407.0</td>\n",
       "      <td>393.0</td>\n",
       "      <td>275.0</td>\n",
       "      <td>335.0</td>\n",
       "      <td>270.0</td>\n",
       "      <td>3197968.0</td>\n",
       "      <td>...</td>\n",
       "      <td>9.5</td>\n",
       "      <td>3131822.0</td>\n",
       "      <td>68.0</td>\n",
       "      <td>61.0</td>\n",
       "      <td>67.0</td>\n",
       "      <td>66.0</td>\n",
       "      <td>46.0</td>\n",
       "      <td>55.0</td>\n",
       "      <td>45.0</td>\n",
       "      <td>402.0</td>\n",
       "    </tr>\n",
       "    <tr>\n",
       "      <th>3</th>\n",
       "      <td>T001</td>\n",
       "      <td>2013-01-10 00:30:00</td>\n",
       "      <td>257.0</td>\n",
       "      <td>307.0</td>\n",
       "      <td>315.0</td>\n",
       "      <td>361.0</td>\n",
       "      <td>317.0</td>\n",
       "      <td>354.0</td>\n",
       "      <td>271.0</td>\n",
       "      <td>3198011.0</td>\n",
       "      <td>...</td>\n",
       "      <td>10.5</td>\n",
       "      <td>3132179.0</td>\n",
       "      <td>43.0</td>\n",
       "      <td>51.0</td>\n",
       "      <td>53.0</td>\n",
       "      <td>62.0</td>\n",
       "      <td>53.0</td>\n",
       "      <td>60.0</td>\n",
       "      <td>45.0</td>\n",
       "      <td>357.0</td>\n",
       "    </tr>\n",
       "    <tr>\n",
       "      <th>4</th>\n",
       "      <td>T001</td>\n",
       "      <td>2013-01-10 00:40:00</td>\n",
       "      <td>267.0</td>\n",
       "      <td>309.0</td>\n",
       "      <td>314.0</td>\n",
       "      <td>355.0</td>\n",
       "      <td>262.0</td>\n",
       "      <td>246.0</td>\n",
       "      <td>212.0</td>\n",
       "      <td>3198056.0</td>\n",
       "      <td>...</td>\n",
       "      <td>9.6</td>\n",
       "      <td>3132501.0</td>\n",
       "      <td>45.0</td>\n",
       "      <td>51.0</td>\n",
       "      <td>54.0</td>\n",
       "      <td>59.0</td>\n",
       "      <td>43.0</td>\n",
       "      <td>41.0</td>\n",
       "      <td>36.0</td>\n",
       "      <td>322.0</td>\n",
       "    </tr>\n",
       "  </tbody>\n",
       "</table>\n",
       "<p>5 rows × 28 columns</p>\n",
       "</div>"
      ],
      "text/plain": [
       "  turbine_id           timestamp  value_S01  value_S02  value_S03  value_S04  \\\n",
       "0       T001 2013-01-10 00:00:00      323.0      320.0      284.0      348.0   \n",
       "1       T001 2013-01-10 00:10:00      346.0      384.0      367.0      411.0   \n",
       "2       T001 2013-01-10 00:20:00      407.0      363.0      407.0      393.0   \n",
       "3       T001 2013-01-10 00:30:00      257.0      307.0      315.0      361.0   \n",
       "4       T001 2013-01-10 00:40:00      267.0      309.0      314.0      355.0   \n",
       "\n",
       "   value_S05  value_S06  value_S07  value_S08  ...  value_S17  value_S18  \\\n",
       "0      273.0      342.0      280.0  3197842.0  ...       11.7  3131020.0   \n",
       "1      331.0      360.0      249.0  3197900.0  ...       10.2  3131420.0   \n",
       "2      275.0      335.0      270.0  3197968.0  ...        9.5  3131822.0   \n",
       "3      317.0      354.0      271.0  3198011.0  ...       10.5  3132179.0   \n",
       "4      262.0      246.0      212.0  3198056.0  ...        9.6  3132501.0   \n",
       "\n",
       "   value_S19  value_S20  value_S21  value_S22  value_S23  value_S24  \\\n",
       "0       55.0       55.0       47.0       58.0       45.0       58.0   \n",
       "1       58.0       63.0       62.0       67.0       55.0       61.0   \n",
       "2       68.0       61.0       67.0       66.0       46.0       55.0   \n",
       "3       43.0       51.0       53.0       62.0       53.0       60.0   \n",
       "4       45.0       51.0       54.0       59.0       43.0       41.0   \n",
       "\n",
       "   value_S25  value_S26  \n",
       "0       47.0      356.0  \n",
       "1       42.0      400.0  \n",
       "2       45.0      402.0  \n",
       "3       45.0      357.0  \n",
       "4       36.0      322.0  \n",
       "\n",
       "[5 rows x 28 columns]"
      ]
     },
     "execution_count": 9,
     "metadata": {},
     "output_type": "execute_result"
    }
   ],
   "source": [
    "context['readings'].head()"
   ]
  },
  {
   "cell_type": "markdown",
   "metadata": {},
   "source": [
    "## pandas.DataFrame.pop\n",
    "\n",
    "* Input: readings (unstacked)\n",
    "* Output: readings (without turbine_id), turbine_id\n",
    "* Effect: turbine_id has been popped from readings"
   ]
  },
  {
   "cell_type": "code",
   "execution_count": 10,
   "metadata": {},
   "outputs": [],
   "source": [
    "step = 1\n",
    "context = pipeline.fit(**context, output_=step, start_=step)"
   ]
  },
  {
   "cell_type": "code",
   "execution_count": 11,
   "metadata": {},
   "outputs": [
    {
     "data": {
      "text/plain": [
       "dict_keys(['readings', 'turbines', 'X', 'y', 'turbine_id'])"
      ]
     },
     "execution_count": 11,
     "metadata": {},
     "output_type": "execute_result"
    }
   ],
   "source": [
    "context.keys()"
   ]
  },
  {
   "cell_type": "code",
   "execution_count": 12,
   "metadata": {},
   "outputs": [
    {
     "data": {
      "text/plain": [
       "0    T001\n",
       "1    T001\n",
       "2    T001\n",
       "3    T001\n",
       "4    T001\n",
       "Name: turbine_id, dtype: object"
      ]
     },
     "execution_count": 12,
     "metadata": {},
     "output_type": "execute_result"
    }
   ],
   "source": [
    "context['turbine_id'].head()"
   ]
  },
  {
   "cell_type": "code",
   "execution_count": 13,
   "metadata": {},
   "outputs": [
    {
     "data": {
      "text/html": [
       "<div>\n",
       "<style scoped>\n",
       "    .dataframe tbody tr th:only-of-type {\n",
       "        vertical-align: middle;\n",
       "    }\n",
       "\n",
       "    .dataframe tbody tr th {\n",
       "        vertical-align: top;\n",
       "    }\n",
       "\n",
       "    .dataframe thead th {\n",
       "        text-align: right;\n",
       "    }\n",
       "</style>\n",
       "<table border=\"1\" class=\"dataframe\">\n",
       "  <thead>\n",
       "    <tr style=\"text-align: right;\">\n",
       "      <th></th>\n",
       "      <th>timestamp</th>\n",
       "      <th>value_S01</th>\n",
       "      <th>value_S02</th>\n",
       "      <th>value_S03</th>\n",
       "      <th>value_S04</th>\n",
       "      <th>value_S05</th>\n",
       "      <th>value_S06</th>\n",
       "      <th>value_S07</th>\n",
       "      <th>value_S08</th>\n",
       "      <th>value_S09</th>\n",
       "      <th>...</th>\n",
       "      <th>value_S17</th>\n",
       "      <th>value_S18</th>\n",
       "      <th>value_S19</th>\n",
       "      <th>value_S20</th>\n",
       "      <th>value_S21</th>\n",
       "      <th>value_S22</th>\n",
       "      <th>value_S23</th>\n",
       "      <th>value_S24</th>\n",
       "      <th>value_S25</th>\n",
       "      <th>value_S26</th>\n",
       "    </tr>\n",
       "  </thead>\n",
       "  <tbody>\n",
       "    <tr>\n",
       "      <th>0</th>\n",
       "      <td>2013-01-10 00:00:00</td>\n",
       "      <td>323.0</td>\n",
       "      <td>320.0</td>\n",
       "      <td>284.0</td>\n",
       "      <td>348.0</td>\n",
       "      <td>273.0</td>\n",
       "      <td>342.0</td>\n",
       "      <td>280.0</td>\n",
       "      <td>3197842.0</td>\n",
       "      <td>695000.0</td>\n",
       "      <td>...</td>\n",
       "      <td>11.7</td>\n",
       "      <td>3131020.0</td>\n",
       "      <td>55.0</td>\n",
       "      <td>55.0</td>\n",
       "      <td>47.0</td>\n",
       "      <td>58.0</td>\n",
       "      <td>45.0</td>\n",
       "      <td>58.0</td>\n",
       "      <td>47.0</td>\n",
       "      <td>356.0</td>\n",
       "    </tr>\n",
       "    <tr>\n",
       "      <th>1</th>\n",
       "      <td>2013-01-10 00:10:00</td>\n",
       "      <td>346.0</td>\n",
       "      <td>384.0</td>\n",
       "      <td>367.0</td>\n",
       "      <td>411.0</td>\n",
       "      <td>331.0</td>\n",
       "      <td>360.0</td>\n",
       "      <td>249.0</td>\n",
       "      <td>3197900.0</td>\n",
       "      <td>695063.0</td>\n",
       "      <td>...</td>\n",
       "      <td>10.2</td>\n",
       "      <td>3131420.0</td>\n",
       "      <td>58.0</td>\n",
       "      <td>63.0</td>\n",
       "      <td>62.0</td>\n",
       "      <td>67.0</td>\n",
       "      <td>55.0</td>\n",
       "      <td>61.0</td>\n",
       "      <td>42.0</td>\n",
       "      <td>400.0</td>\n",
       "    </tr>\n",
       "    <tr>\n",
       "      <th>2</th>\n",
       "      <td>2013-01-10 00:20:00</td>\n",
       "      <td>407.0</td>\n",
       "      <td>363.0</td>\n",
       "      <td>407.0</td>\n",
       "      <td>393.0</td>\n",
       "      <td>275.0</td>\n",
       "      <td>335.0</td>\n",
       "      <td>270.0</td>\n",
       "      <td>3197968.0</td>\n",
       "      <td>695124.0</td>\n",
       "      <td>...</td>\n",
       "      <td>9.5</td>\n",
       "      <td>3131822.0</td>\n",
       "      <td>68.0</td>\n",
       "      <td>61.0</td>\n",
       "      <td>67.0</td>\n",
       "      <td>66.0</td>\n",
       "      <td>46.0</td>\n",
       "      <td>55.0</td>\n",
       "      <td>45.0</td>\n",
       "      <td>402.0</td>\n",
       "    </tr>\n",
       "    <tr>\n",
       "      <th>3</th>\n",
       "      <td>2013-01-10 00:30:00</td>\n",
       "      <td>257.0</td>\n",
       "      <td>307.0</td>\n",
       "      <td>315.0</td>\n",
       "      <td>361.0</td>\n",
       "      <td>317.0</td>\n",
       "      <td>354.0</td>\n",
       "      <td>271.0</td>\n",
       "      <td>3198011.0</td>\n",
       "      <td>695175.0</td>\n",
       "      <td>...</td>\n",
       "      <td>10.5</td>\n",
       "      <td>3132179.0</td>\n",
       "      <td>43.0</td>\n",
       "      <td>51.0</td>\n",
       "      <td>53.0</td>\n",
       "      <td>62.0</td>\n",
       "      <td>53.0</td>\n",
       "      <td>60.0</td>\n",
       "      <td>45.0</td>\n",
       "      <td>357.0</td>\n",
       "    </tr>\n",
       "    <tr>\n",
       "      <th>4</th>\n",
       "      <td>2013-01-10 00:40:00</td>\n",
       "      <td>267.0</td>\n",
       "      <td>309.0</td>\n",
       "      <td>314.0</td>\n",
       "      <td>355.0</td>\n",
       "      <td>262.0</td>\n",
       "      <td>246.0</td>\n",
       "      <td>212.0</td>\n",
       "      <td>3198056.0</td>\n",
       "      <td>695226.0</td>\n",
       "      <td>...</td>\n",
       "      <td>9.6</td>\n",
       "      <td>3132501.0</td>\n",
       "      <td>45.0</td>\n",
       "      <td>51.0</td>\n",
       "      <td>54.0</td>\n",
       "      <td>59.0</td>\n",
       "      <td>43.0</td>\n",
       "      <td>41.0</td>\n",
       "      <td>36.0</td>\n",
       "      <td>322.0</td>\n",
       "    </tr>\n",
       "  </tbody>\n",
       "</table>\n",
       "<p>5 rows × 27 columns</p>\n",
       "</div>"
      ],
      "text/plain": [
       "            timestamp  value_S01  value_S02  value_S03  value_S04  value_S05  \\\n",
       "0 2013-01-10 00:00:00      323.0      320.0      284.0      348.0      273.0   \n",
       "1 2013-01-10 00:10:00      346.0      384.0      367.0      411.0      331.0   \n",
       "2 2013-01-10 00:20:00      407.0      363.0      407.0      393.0      275.0   \n",
       "3 2013-01-10 00:30:00      257.0      307.0      315.0      361.0      317.0   \n",
       "4 2013-01-10 00:40:00      267.0      309.0      314.0      355.0      262.0   \n",
       "\n",
       "   value_S06  value_S07  value_S08  value_S09  ...  value_S17  value_S18  \\\n",
       "0      342.0      280.0  3197842.0   695000.0  ...       11.7  3131020.0   \n",
       "1      360.0      249.0  3197900.0   695063.0  ...       10.2  3131420.0   \n",
       "2      335.0      270.0  3197968.0   695124.0  ...        9.5  3131822.0   \n",
       "3      354.0      271.0  3198011.0   695175.0  ...       10.5  3132179.0   \n",
       "4      246.0      212.0  3198056.0   695226.0  ...        9.6  3132501.0   \n",
       "\n",
       "   value_S19  value_S20  value_S21  value_S22  value_S23  value_S24  \\\n",
       "0       55.0       55.0       47.0       58.0       45.0       58.0   \n",
       "1       58.0       63.0       62.0       67.0       55.0       61.0   \n",
       "2       68.0       61.0       67.0       66.0       46.0       55.0   \n",
       "3       43.0       51.0       53.0       62.0       53.0       60.0   \n",
       "4       45.0       51.0       54.0       59.0       43.0       41.0   \n",
       "\n",
       "   value_S25  value_S26  \n",
       "0       47.0      356.0  \n",
       "1       42.0      400.0  \n",
       "2       45.0      402.0  \n",
       "3       45.0      357.0  \n",
       "4       36.0      322.0  \n",
       "\n",
       "[5 rows x 27 columns]"
      ]
     },
     "execution_count": 13,
     "metadata": {},
     "output_type": "execute_result"
    }
   ],
   "source": [
    "context['readings'].head()"
   ]
  },
  {
   "cell_type": "markdown",
   "metadata": {},
   "source": [
    "## pandas.DataFrame.pop\n",
    "\n",
    "* Input: readings (without turbine_id)\n",
    "* Output: readings (without timestamp), timestamp\n",
    "* Effect: timestamp has been popped from readings"
   ]
  },
  {
   "cell_type": "code",
   "execution_count": 14,
   "metadata": {},
   "outputs": [],
   "source": [
    "step = 2\n",
    "context = pipeline.fit(**context, output_=step, start_=step)"
   ]
  },
  {
   "cell_type": "code",
   "execution_count": 15,
   "metadata": {},
   "outputs": [
    {
     "data": {
      "text/plain": [
       "dict_keys(['readings', 'turbines', 'turbine_id', 'X', 'y', 'timestamp'])"
      ]
     },
     "execution_count": 15,
     "metadata": {},
     "output_type": "execute_result"
    }
   ],
   "source": [
    "context.keys()"
   ]
  },
  {
   "cell_type": "code",
   "execution_count": 16,
   "metadata": {},
   "outputs": [
    {
     "data": {
      "text/plain": [
       "0   2013-01-10 00:00:00\n",
       "1   2013-01-10 00:10:00\n",
       "2   2013-01-10 00:20:00\n",
       "3   2013-01-10 00:30:00\n",
       "4   2013-01-10 00:40:00\n",
       "Name: timestamp, dtype: datetime64[ns]"
      ]
     },
     "execution_count": 16,
     "metadata": {},
     "output_type": "execute_result"
    }
   ],
   "source": [
    "context['timestamp'].head()"
   ]
  },
  {
   "cell_type": "code",
   "execution_count": 17,
   "metadata": {},
   "outputs": [
    {
     "data": {
      "text/html": [
       "<div>\n",
       "<style scoped>\n",
       "    .dataframe tbody tr th:only-of-type {\n",
       "        vertical-align: middle;\n",
       "    }\n",
       "\n",
       "    .dataframe tbody tr th {\n",
       "        vertical-align: top;\n",
       "    }\n",
       "\n",
       "    .dataframe thead th {\n",
       "        text-align: right;\n",
       "    }\n",
       "</style>\n",
       "<table border=\"1\" class=\"dataframe\">\n",
       "  <thead>\n",
       "    <tr style=\"text-align: right;\">\n",
       "      <th></th>\n",
       "      <th>value_S01</th>\n",
       "      <th>value_S02</th>\n",
       "      <th>value_S03</th>\n",
       "      <th>value_S04</th>\n",
       "      <th>value_S05</th>\n",
       "      <th>value_S06</th>\n",
       "      <th>value_S07</th>\n",
       "      <th>value_S08</th>\n",
       "      <th>value_S09</th>\n",
       "      <th>value_S10</th>\n",
       "      <th>...</th>\n",
       "      <th>value_S17</th>\n",
       "      <th>value_S18</th>\n",
       "      <th>value_S19</th>\n",
       "      <th>value_S20</th>\n",
       "      <th>value_S21</th>\n",
       "      <th>value_S22</th>\n",
       "      <th>value_S23</th>\n",
       "      <th>value_S24</th>\n",
       "      <th>value_S25</th>\n",
       "      <th>value_S26</th>\n",
       "    </tr>\n",
       "  </thead>\n",
       "  <tbody>\n",
       "    <tr>\n",
       "      <th>0</th>\n",
       "      <td>323.0</td>\n",
       "      <td>320.0</td>\n",
       "      <td>284.0</td>\n",
       "      <td>348.0</td>\n",
       "      <td>273.0</td>\n",
       "      <td>342.0</td>\n",
       "      <td>280.0</td>\n",
       "      <td>3197842.0</td>\n",
       "      <td>695000.0</td>\n",
       "      <td>3348234.0</td>\n",
       "      <td>...</td>\n",
       "      <td>11.7</td>\n",
       "      <td>3131020.0</td>\n",
       "      <td>55.0</td>\n",
       "      <td>55.0</td>\n",
       "      <td>47.0</td>\n",
       "      <td>58.0</td>\n",
       "      <td>45.0</td>\n",
       "      <td>58.0</td>\n",
       "      <td>47.0</td>\n",
       "      <td>356.0</td>\n",
       "    </tr>\n",
       "    <tr>\n",
       "      <th>1</th>\n",
       "      <td>346.0</td>\n",
       "      <td>384.0</td>\n",
       "      <td>367.0</td>\n",
       "      <td>411.0</td>\n",
       "      <td>331.0</td>\n",
       "      <td>360.0</td>\n",
       "      <td>249.0</td>\n",
       "      <td>3197900.0</td>\n",
       "      <td>695063.0</td>\n",
       "      <td>3348296.0</td>\n",
       "      <td>...</td>\n",
       "      <td>10.2</td>\n",
       "      <td>3131420.0</td>\n",
       "      <td>58.0</td>\n",
       "      <td>63.0</td>\n",
       "      <td>62.0</td>\n",
       "      <td>67.0</td>\n",
       "      <td>55.0</td>\n",
       "      <td>61.0</td>\n",
       "      <td>42.0</td>\n",
       "      <td>400.0</td>\n",
       "    </tr>\n",
       "    <tr>\n",
       "      <th>2</th>\n",
       "      <td>407.0</td>\n",
       "      <td>363.0</td>\n",
       "      <td>407.0</td>\n",
       "      <td>393.0</td>\n",
       "      <td>275.0</td>\n",
       "      <td>335.0</td>\n",
       "      <td>270.0</td>\n",
       "      <td>3197968.0</td>\n",
       "      <td>695124.0</td>\n",
       "      <td>3348363.0</td>\n",
       "      <td>...</td>\n",
       "      <td>9.5</td>\n",
       "      <td>3131822.0</td>\n",
       "      <td>68.0</td>\n",
       "      <td>61.0</td>\n",
       "      <td>67.0</td>\n",
       "      <td>66.0</td>\n",
       "      <td>46.0</td>\n",
       "      <td>55.0</td>\n",
       "      <td>45.0</td>\n",
       "      <td>402.0</td>\n",
       "    </tr>\n",
       "    <tr>\n",
       "      <th>3</th>\n",
       "      <td>257.0</td>\n",
       "      <td>307.0</td>\n",
       "      <td>315.0</td>\n",
       "      <td>361.0</td>\n",
       "      <td>317.0</td>\n",
       "      <td>354.0</td>\n",
       "      <td>271.0</td>\n",
       "      <td>3198011.0</td>\n",
       "      <td>695175.0</td>\n",
       "      <td>3348416.0</td>\n",
       "      <td>...</td>\n",
       "      <td>10.5</td>\n",
       "      <td>3132179.0</td>\n",
       "      <td>43.0</td>\n",
       "      <td>51.0</td>\n",
       "      <td>53.0</td>\n",
       "      <td>62.0</td>\n",
       "      <td>53.0</td>\n",
       "      <td>60.0</td>\n",
       "      <td>45.0</td>\n",
       "      <td>357.0</td>\n",
       "    </tr>\n",
       "    <tr>\n",
       "      <th>4</th>\n",
       "      <td>267.0</td>\n",
       "      <td>309.0</td>\n",
       "      <td>314.0</td>\n",
       "      <td>355.0</td>\n",
       "      <td>262.0</td>\n",
       "      <td>246.0</td>\n",
       "      <td>212.0</td>\n",
       "      <td>3198056.0</td>\n",
       "      <td>695226.0</td>\n",
       "      <td>3348470.0</td>\n",
       "      <td>...</td>\n",
       "      <td>9.6</td>\n",
       "      <td>3132501.0</td>\n",
       "      <td>45.0</td>\n",
       "      <td>51.0</td>\n",
       "      <td>54.0</td>\n",
       "      <td>59.0</td>\n",
       "      <td>43.0</td>\n",
       "      <td>41.0</td>\n",
       "      <td>36.0</td>\n",
       "      <td>322.0</td>\n",
       "    </tr>\n",
       "  </tbody>\n",
       "</table>\n",
       "<p>5 rows × 26 columns</p>\n",
       "</div>"
      ],
      "text/plain": [
       "   value_S01  value_S02  value_S03  value_S04  value_S05  value_S06  \\\n",
       "0      323.0      320.0      284.0      348.0      273.0      342.0   \n",
       "1      346.0      384.0      367.0      411.0      331.0      360.0   \n",
       "2      407.0      363.0      407.0      393.0      275.0      335.0   \n",
       "3      257.0      307.0      315.0      361.0      317.0      354.0   \n",
       "4      267.0      309.0      314.0      355.0      262.0      246.0   \n",
       "\n",
       "   value_S07  value_S08  value_S09  value_S10  ...  value_S17  value_S18  \\\n",
       "0      280.0  3197842.0   695000.0  3348234.0  ...       11.7  3131020.0   \n",
       "1      249.0  3197900.0   695063.0  3348296.0  ...       10.2  3131420.0   \n",
       "2      270.0  3197968.0   695124.0  3348363.0  ...        9.5  3131822.0   \n",
       "3      271.0  3198011.0   695175.0  3348416.0  ...       10.5  3132179.0   \n",
       "4      212.0  3198056.0   695226.0  3348470.0  ...        9.6  3132501.0   \n",
       "\n",
       "   value_S19  value_S20  value_S21  value_S22  value_S23  value_S24  \\\n",
       "0       55.0       55.0       47.0       58.0       45.0       58.0   \n",
       "1       58.0       63.0       62.0       67.0       55.0       61.0   \n",
       "2       68.0       61.0       67.0       66.0       46.0       55.0   \n",
       "3       43.0       51.0       53.0       62.0       53.0       60.0   \n",
       "4       45.0       51.0       54.0       59.0       43.0       41.0   \n",
       "\n",
       "   value_S25  value_S26  \n",
       "0       47.0      356.0  \n",
       "1       42.0      400.0  \n",
       "2       45.0      402.0  \n",
       "3       45.0      357.0  \n",
       "4       36.0      322.0  \n",
       "\n",
       "[5 rows x 26 columns]"
      ]
     },
     "execution_count": 17,
     "metadata": {},
     "output_type": "execute_result"
    }
   ],
   "source": [
    "context['readings'].head()"
   ]
  },
  {
   "cell_type": "markdown",
   "metadata": {},
   "source": [
    "## sklearn.impute.SimpleImputer\n",
    "\n",
    "* Input: readings (unstacked, no turbine_id, no timestamp)\n",
    "* Output: readings (imputed, numpy array)\n",
    "* Effect: readings have been imputed and converted to numpy array"
   ]
  },
  {
   "cell_type": "code",
   "execution_count": 18,
   "metadata": {},
   "outputs": [],
   "source": [
    "step = 3\n",
    "context = pipeline.fit(**context, output_=step, start_=step)"
   ]
  },
  {
   "cell_type": "code",
   "execution_count": 19,
   "metadata": {},
   "outputs": [
    {
     "data": {
      "text/plain": [
       "dict_keys(['readings', 'turbines', 'turbine_id', 'timestamp', 'X', 'y'])"
      ]
     },
     "execution_count": 19,
     "metadata": {},
     "output_type": "execute_result"
    }
   ],
   "source": [
    "context.keys()"
   ]
  },
  {
   "cell_type": "code",
   "execution_count": 20,
   "metadata": {},
   "outputs": [
    {
     "data": {
      "text/plain": [
       "array([[3.230000e+02, 3.200000e+02, 2.840000e+02, 3.480000e+02,\n",
       "        2.730000e+02, 3.420000e+02, 2.800000e+02, 3.197842e+06,\n",
       "        6.950000e+05, 3.348234e+06, 3.436762e+06, 3.322362e+06,\n",
       "        3.357952e+06, 3.223797e+06, 8.300000e+00, 6.000000e+00,\n",
       "        1.170000e+01, 3.131020e+06, 5.500000e+01, 5.500000e+01,\n",
       "        4.700000e+01, 5.800000e+01, 4.500000e+01, 5.800000e+01,\n",
       "        4.700000e+01, 3.560000e+02],\n",
       "       [3.460000e+02, 3.840000e+02, 3.670000e+02, 4.110000e+02,\n",
       "        3.310000e+02, 3.600000e+02, 2.490000e+02, 3.197900e+06,\n",
       "        6.950630e+05, 3.348296e+06, 3.436829e+06, 3.322417e+06,\n",
       "        3.358013e+06, 3.223839e+06, 7.600000e+00, 5.000000e+00,\n",
       "        1.020000e+01, 3.131420e+06, 5.800000e+01, 6.300000e+01,\n",
       "        6.200000e+01, 6.700000e+01, 5.500000e+01, 6.100000e+01,\n",
       "        4.200000e+01, 4.000000e+02],\n",
       "       [4.070000e+02, 3.630000e+02, 4.070000e+02, 3.930000e+02,\n",
       "        2.750000e+02, 3.350000e+02, 2.700000e+02, 3.197968e+06,\n",
       "        6.951240e+05, 3.348363e+06, 3.436895e+06, 3.322463e+06,\n",
       "        3.358068e+06, 3.223884e+06, 7.800000e+00, 5.700000e+00,\n",
       "        9.500000e+00, 3.131822e+06, 6.800000e+01, 6.100000e+01,\n",
       "        6.700000e+01, 6.600000e+01, 4.600000e+01, 5.500000e+01,\n",
       "        4.500000e+01, 4.020000e+02],\n",
       "       [2.570000e+02, 3.070000e+02, 3.150000e+02, 3.610000e+02,\n",
       "        3.170000e+02, 3.540000e+02, 2.710000e+02, 3.198011e+06,\n",
       "        6.951750e+05, 3.348416e+06, 3.436957e+06, 3.322516e+06,\n",
       "        3.358128e+06, 3.223929e+06, 8.600000e+00, 6.600000e+00,\n",
       "        1.050000e+01, 3.132179e+06, 4.300000e+01, 5.100000e+01,\n",
       "        5.300000e+01, 6.200000e+01, 5.300000e+01, 6.000000e+01,\n",
       "        4.500000e+01, 3.570000e+02],\n",
       "       [2.670000e+02, 3.090000e+02, 3.140000e+02, 3.550000e+02,\n",
       "        2.620000e+02, 2.460000e+02, 2.120000e+02, 3.198056e+06,\n",
       "        6.952260e+05, 3.348470e+06, 3.437016e+06, 3.322559e+06,\n",
       "        3.358169e+06, 3.223965e+06, 7.500000e+00, 5.900000e+00,\n",
       "        9.600000e+00, 3.132501e+06, 4.500000e+01, 5.100000e+01,\n",
       "        5.400000e+01, 5.900000e+01, 4.300000e+01, 4.100000e+01,\n",
       "        3.600000e+01, 3.220000e+02]])"
      ]
     },
     "execution_count": 20,
     "metadata": {},
     "output_type": "execute_result"
    }
   ],
   "source": [
    "context['readings'][0:5]"
   ]
  },
  {
   "cell_type": "markdown",
   "metadata": {},
   "source": [
    "## sklearn.preprocessing.MinMaxScaler\n",
    "\n",
    "* Input: (imputed, array)\n",
    "* Output: readings (scaled, array)\n",
    "* Effect: readings have been scaled to [-1, 1] range"
   ]
  },
  {
   "cell_type": "code",
   "execution_count": 21,
   "metadata": {},
   "outputs": [],
   "source": [
    "step = 4\n",
    "context = pipeline.fit(**context, output_=step, start_=step)"
   ]
  },
  {
   "cell_type": "code",
   "execution_count": 22,
   "metadata": {},
   "outputs": [
    {
     "data": {
      "text/plain": [
       "dict_keys(['readings', 'turbines', 'turbine_id', 'timestamp', 'X', 'y'])"
      ]
     },
     "execution_count": 22,
     "metadata": {},
     "output_type": "execute_result"
    }
   ],
   "source": [
    "context.keys()"
   ]
  },
  {
   "cell_type": "code",
   "execution_count": 23,
   "metadata": {},
   "outputs": [
    {
     "data": {
      "text/plain": [
       "array([[-0.23563892, -0.24267292, -0.3286385 , -0.17702227, -0.35287222,\n",
       "        -0.19248826, -0.3317757 , -1.        , -1.        , -1.        ,\n",
       "        -1.        , -1.        , -1.        , -1.        , -0.11702128,\n",
       "        -0.24050633, -0.25714286, -0.37378787, -0.22758621, -0.22758621,\n",
       "        -0.31972789, -0.1862069 , -0.36986301, -0.1862069 , -0.33793103,\n",
       "        -0.26141079],\n",
       "       [-0.18171161, -0.0926143 , -0.13380282, -0.02930832, -0.21688159,\n",
       "        -0.15023474, -0.40420561, -0.99995911, -0.99995779, -0.99995941,\n",
       "        -0.99995718, -0.99996326, -0.99996042, -0.99997164, -0.19148936,\n",
       "        -0.36708861, -0.35238095, -0.37370786, -0.1862069 , -0.11724138,\n",
       "        -0.11564626, -0.06206897, -0.23287671, -0.14482759, -0.40689655,\n",
       "        -0.17012448],\n",
       "       [-0.03868699, -0.14185229, -0.0399061 , -0.07151231, -0.34818288,\n",
       "        -0.20892019, -0.35514019, -0.99991116, -0.99991693, -0.99991555,\n",
       "        -0.999915  , -0.99993254, -0.99992474, -0.99994125, -0.17021277,\n",
       "        -0.27848101, -0.3968254 , -0.37362746, -0.04827586, -0.14482759,\n",
       "        -0.04761905, -0.07586207, -0.35616438, -0.22758621, -0.36551724,\n",
       "        -0.1659751 ],\n",
       "       [-0.39038687, -0.27315358, -0.25586854, -0.14654162, -0.24970692,\n",
       "        -0.16431925, -0.35280374, -0.99988085, -0.99988276, -0.99988086,\n",
       "        -0.99987538, -0.99989714, -0.99988581, -0.99991086, -0.08510638,\n",
       "        -0.16455696, -0.33333333, -0.37355606, -0.39310345, -0.28275862,\n",
       "        -0.23809524, -0.13103448, -0.26027397, -0.15862069, -0.36551724,\n",
       "        -0.2593361 ],\n",
       "       [-0.36694021, -0.26846424, -0.25821596, -0.16060961, -0.37866354,\n",
       "        -0.41784038, -0.49065421, -0.99984912, -0.99984859, -0.99984551,\n",
       "        -0.99983767, -0.99986841, -0.99985921, -0.99988655, -0.20212766,\n",
       "        -0.25316456, -0.39047619, -0.37349166, -0.36551724, -0.28275862,\n",
       "        -0.2244898 , -0.17241379, -0.39726027, -0.42068966, -0.48965517,\n",
       "        -0.33195021]])"
      ]
     },
     "execution_count": 23,
     "metadata": {},
     "output_type": "execute_result"
    }
   ],
   "source": [
    "context['readings'][0:5]"
   ]
  },
  {
   "cell_type": "markdown",
   "metadata": {},
   "source": [
    "## pandas.DataFrame\n",
    "\n",
    "* Input: readings (scaled, array)\n",
    "* Output: readings (dataframe)\n",
    "* Effect: readings have been converted into a dataframe"
   ]
  },
  {
   "cell_type": "code",
   "execution_count": 24,
   "metadata": {},
   "outputs": [],
   "source": [
    "step = 5\n",
    "context = pipeline.fit(**context, output_=step, start_=step)"
   ]
  },
  {
   "cell_type": "code",
   "execution_count": 25,
   "metadata": {},
   "outputs": [
    {
     "data": {
      "text/plain": [
       "dict_keys(['readings', 'turbines', 'turbine_id', 'timestamp', 'X', 'y'])"
      ]
     },
     "execution_count": 25,
     "metadata": {},
     "output_type": "execute_result"
    }
   ],
   "source": [
    "context.keys()"
   ]
  },
  {
   "cell_type": "code",
   "execution_count": 26,
   "metadata": {},
   "outputs": [
    {
     "data": {
      "text/html": [
       "<div>\n",
       "<style scoped>\n",
       "    .dataframe tbody tr th:only-of-type {\n",
       "        vertical-align: middle;\n",
       "    }\n",
       "\n",
       "    .dataframe tbody tr th {\n",
       "        vertical-align: top;\n",
       "    }\n",
       "\n",
       "    .dataframe thead th {\n",
       "        text-align: right;\n",
       "    }\n",
       "</style>\n",
       "<table border=\"1\" class=\"dataframe\">\n",
       "  <thead>\n",
       "    <tr style=\"text-align: right;\">\n",
       "      <th></th>\n",
       "      <th>0</th>\n",
       "      <th>1</th>\n",
       "      <th>2</th>\n",
       "      <th>3</th>\n",
       "      <th>4</th>\n",
       "      <th>5</th>\n",
       "      <th>6</th>\n",
       "      <th>7</th>\n",
       "      <th>8</th>\n",
       "      <th>9</th>\n",
       "      <th>...</th>\n",
       "      <th>16</th>\n",
       "      <th>17</th>\n",
       "      <th>18</th>\n",
       "      <th>19</th>\n",
       "      <th>20</th>\n",
       "      <th>21</th>\n",
       "      <th>22</th>\n",
       "      <th>23</th>\n",
       "      <th>24</th>\n",
       "      <th>25</th>\n",
       "    </tr>\n",
       "  </thead>\n",
       "  <tbody>\n",
       "    <tr>\n",
       "      <th>0</th>\n",
       "      <td>-0.235639</td>\n",
       "      <td>-0.242673</td>\n",
       "      <td>-0.328638</td>\n",
       "      <td>-0.177022</td>\n",
       "      <td>-0.352872</td>\n",
       "      <td>-0.192488</td>\n",
       "      <td>-0.331776</td>\n",
       "      <td>-1.000000</td>\n",
       "      <td>-1.000000</td>\n",
       "      <td>-1.000000</td>\n",
       "      <td>...</td>\n",
       "      <td>-0.257143</td>\n",
       "      <td>-0.373788</td>\n",
       "      <td>-0.227586</td>\n",
       "      <td>-0.227586</td>\n",
       "      <td>-0.319728</td>\n",
       "      <td>-0.186207</td>\n",
       "      <td>-0.369863</td>\n",
       "      <td>-0.186207</td>\n",
       "      <td>-0.337931</td>\n",
       "      <td>-0.261411</td>\n",
       "    </tr>\n",
       "    <tr>\n",
       "      <th>1</th>\n",
       "      <td>-0.181712</td>\n",
       "      <td>-0.092614</td>\n",
       "      <td>-0.133803</td>\n",
       "      <td>-0.029308</td>\n",
       "      <td>-0.216882</td>\n",
       "      <td>-0.150235</td>\n",
       "      <td>-0.404206</td>\n",
       "      <td>-0.999959</td>\n",
       "      <td>-0.999958</td>\n",
       "      <td>-0.999959</td>\n",
       "      <td>...</td>\n",
       "      <td>-0.352381</td>\n",
       "      <td>-0.373708</td>\n",
       "      <td>-0.186207</td>\n",
       "      <td>-0.117241</td>\n",
       "      <td>-0.115646</td>\n",
       "      <td>-0.062069</td>\n",
       "      <td>-0.232877</td>\n",
       "      <td>-0.144828</td>\n",
       "      <td>-0.406897</td>\n",
       "      <td>-0.170124</td>\n",
       "    </tr>\n",
       "    <tr>\n",
       "      <th>2</th>\n",
       "      <td>-0.038687</td>\n",
       "      <td>-0.141852</td>\n",
       "      <td>-0.039906</td>\n",
       "      <td>-0.071512</td>\n",
       "      <td>-0.348183</td>\n",
       "      <td>-0.208920</td>\n",
       "      <td>-0.355140</td>\n",
       "      <td>-0.999911</td>\n",
       "      <td>-0.999917</td>\n",
       "      <td>-0.999916</td>\n",
       "      <td>...</td>\n",
       "      <td>-0.396825</td>\n",
       "      <td>-0.373627</td>\n",
       "      <td>-0.048276</td>\n",
       "      <td>-0.144828</td>\n",
       "      <td>-0.047619</td>\n",
       "      <td>-0.075862</td>\n",
       "      <td>-0.356164</td>\n",
       "      <td>-0.227586</td>\n",
       "      <td>-0.365517</td>\n",
       "      <td>-0.165975</td>\n",
       "    </tr>\n",
       "    <tr>\n",
       "      <th>3</th>\n",
       "      <td>-0.390387</td>\n",
       "      <td>-0.273154</td>\n",
       "      <td>-0.255869</td>\n",
       "      <td>-0.146542</td>\n",
       "      <td>-0.249707</td>\n",
       "      <td>-0.164319</td>\n",
       "      <td>-0.352804</td>\n",
       "      <td>-0.999881</td>\n",
       "      <td>-0.999883</td>\n",
       "      <td>-0.999881</td>\n",
       "      <td>...</td>\n",
       "      <td>-0.333333</td>\n",
       "      <td>-0.373556</td>\n",
       "      <td>-0.393103</td>\n",
       "      <td>-0.282759</td>\n",
       "      <td>-0.238095</td>\n",
       "      <td>-0.131034</td>\n",
       "      <td>-0.260274</td>\n",
       "      <td>-0.158621</td>\n",
       "      <td>-0.365517</td>\n",
       "      <td>-0.259336</td>\n",
       "    </tr>\n",
       "    <tr>\n",
       "      <th>4</th>\n",
       "      <td>-0.366940</td>\n",
       "      <td>-0.268464</td>\n",
       "      <td>-0.258216</td>\n",
       "      <td>-0.160610</td>\n",
       "      <td>-0.378664</td>\n",
       "      <td>-0.417840</td>\n",
       "      <td>-0.490654</td>\n",
       "      <td>-0.999849</td>\n",
       "      <td>-0.999849</td>\n",
       "      <td>-0.999846</td>\n",
       "      <td>...</td>\n",
       "      <td>-0.390476</td>\n",
       "      <td>-0.373492</td>\n",
       "      <td>-0.365517</td>\n",
       "      <td>-0.282759</td>\n",
       "      <td>-0.224490</td>\n",
       "      <td>-0.172414</td>\n",
       "      <td>-0.397260</td>\n",
       "      <td>-0.420690</td>\n",
       "      <td>-0.489655</td>\n",
       "      <td>-0.331950</td>\n",
       "    </tr>\n",
       "  </tbody>\n",
       "</table>\n",
       "<p>5 rows × 26 columns</p>\n",
       "</div>"
      ],
      "text/plain": [
       "         0         1         2         3         4         5         6   \\\n",
       "0 -0.235639 -0.242673 -0.328638 -0.177022 -0.352872 -0.192488 -0.331776   \n",
       "1 -0.181712 -0.092614 -0.133803 -0.029308 -0.216882 -0.150235 -0.404206   \n",
       "2 -0.038687 -0.141852 -0.039906 -0.071512 -0.348183 -0.208920 -0.355140   \n",
       "3 -0.390387 -0.273154 -0.255869 -0.146542 -0.249707 -0.164319 -0.352804   \n",
       "4 -0.366940 -0.268464 -0.258216 -0.160610 -0.378664 -0.417840 -0.490654   \n",
       "\n",
       "         7         8         9   ...        16        17        18        19  \\\n",
       "0 -1.000000 -1.000000 -1.000000  ... -0.257143 -0.373788 -0.227586 -0.227586   \n",
       "1 -0.999959 -0.999958 -0.999959  ... -0.352381 -0.373708 -0.186207 -0.117241   \n",
       "2 -0.999911 -0.999917 -0.999916  ... -0.396825 -0.373627 -0.048276 -0.144828   \n",
       "3 -0.999881 -0.999883 -0.999881  ... -0.333333 -0.373556 -0.393103 -0.282759   \n",
       "4 -0.999849 -0.999849 -0.999846  ... -0.390476 -0.373492 -0.365517 -0.282759   \n",
       "\n",
       "         20        21        22        23        24        25  \n",
       "0 -0.319728 -0.186207 -0.369863 -0.186207 -0.337931 -0.261411  \n",
       "1 -0.115646 -0.062069 -0.232877 -0.144828 -0.406897 -0.170124  \n",
       "2 -0.047619 -0.075862 -0.356164 -0.227586 -0.365517 -0.165975  \n",
       "3 -0.238095 -0.131034 -0.260274 -0.158621 -0.365517 -0.259336  \n",
       "4 -0.224490 -0.172414 -0.397260 -0.420690 -0.489655 -0.331950  \n",
       "\n",
       "[5 rows x 26 columns]"
      ]
     },
     "execution_count": 26,
     "metadata": {},
     "output_type": "execute_result"
    }
   ],
   "source": [
    "context['readings'].head()"
   ]
  },
  {
   "cell_type": "markdown",
   "metadata": {},
   "source": [
    "## pandas.DataFrame.set\n",
    "\n",
    "* Input: readings (dataframe)\n",
    "* Output: readings (dataframe with turbine_id)\n",
    "* Effect: turbine_id has been set as a readings column"
   ]
  },
  {
   "cell_type": "code",
   "execution_count": 27,
   "metadata": {},
   "outputs": [],
   "source": [
    "step = 6\n",
    "context = pipeline.fit(**context, output_=step, start_=step)"
   ]
  },
  {
   "cell_type": "code",
   "execution_count": 28,
   "metadata": {},
   "outputs": [
    {
     "data": {
      "text/plain": [
       "dict_keys(['readings', 'turbines', 'turbine_id', 'timestamp', 'X', 'y'])"
      ]
     },
     "execution_count": 28,
     "metadata": {},
     "output_type": "execute_result"
    }
   ],
   "source": [
    "context.keys()"
   ]
  },
  {
   "cell_type": "code",
   "execution_count": 29,
   "metadata": {},
   "outputs": [
    {
     "data": {
      "text/html": [
       "<div>\n",
       "<style scoped>\n",
       "    .dataframe tbody tr th:only-of-type {\n",
       "        vertical-align: middle;\n",
       "    }\n",
       "\n",
       "    .dataframe tbody tr th {\n",
       "        vertical-align: top;\n",
       "    }\n",
       "\n",
       "    .dataframe thead th {\n",
       "        text-align: right;\n",
       "    }\n",
       "</style>\n",
       "<table border=\"1\" class=\"dataframe\">\n",
       "  <thead>\n",
       "    <tr style=\"text-align: right;\">\n",
       "      <th></th>\n",
       "      <th>0</th>\n",
       "      <th>1</th>\n",
       "      <th>2</th>\n",
       "      <th>3</th>\n",
       "      <th>4</th>\n",
       "      <th>5</th>\n",
       "      <th>6</th>\n",
       "      <th>7</th>\n",
       "      <th>8</th>\n",
       "      <th>9</th>\n",
       "      <th>...</th>\n",
       "      <th>17</th>\n",
       "      <th>18</th>\n",
       "      <th>19</th>\n",
       "      <th>20</th>\n",
       "      <th>21</th>\n",
       "      <th>22</th>\n",
       "      <th>23</th>\n",
       "      <th>24</th>\n",
       "      <th>25</th>\n",
       "      <th>turbine_id</th>\n",
       "    </tr>\n",
       "  </thead>\n",
       "  <tbody>\n",
       "    <tr>\n",
       "      <th>0</th>\n",
       "      <td>-0.235639</td>\n",
       "      <td>-0.242673</td>\n",
       "      <td>-0.328638</td>\n",
       "      <td>-0.177022</td>\n",
       "      <td>-0.352872</td>\n",
       "      <td>-0.192488</td>\n",
       "      <td>-0.331776</td>\n",
       "      <td>-1.000000</td>\n",
       "      <td>-1.000000</td>\n",
       "      <td>-1.000000</td>\n",
       "      <td>...</td>\n",
       "      <td>-0.373788</td>\n",
       "      <td>-0.227586</td>\n",
       "      <td>-0.227586</td>\n",
       "      <td>-0.319728</td>\n",
       "      <td>-0.186207</td>\n",
       "      <td>-0.369863</td>\n",
       "      <td>-0.186207</td>\n",
       "      <td>-0.337931</td>\n",
       "      <td>-0.261411</td>\n",
       "      <td>T001</td>\n",
       "    </tr>\n",
       "    <tr>\n",
       "      <th>1</th>\n",
       "      <td>-0.181712</td>\n",
       "      <td>-0.092614</td>\n",
       "      <td>-0.133803</td>\n",
       "      <td>-0.029308</td>\n",
       "      <td>-0.216882</td>\n",
       "      <td>-0.150235</td>\n",
       "      <td>-0.404206</td>\n",
       "      <td>-0.999959</td>\n",
       "      <td>-0.999958</td>\n",
       "      <td>-0.999959</td>\n",
       "      <td>...</td>\n",
       "      <td>-0.373708</td>\n",
       "      <td>-0.186207</td>\n",
       "      <td>-0.117241</td>\n",
       "      <td>-0.115646</td>\n",
       "      <td>-0.062069</td>\n",
       "      <td>-0.232877</td>\n",
       "      <td>-0.144828</td>\n",
       "      <td>-0.406897</td>\n",
       "      <td>-0.170124</td>\n",
       "      <td>T001</td>\n",
       "    </tr>\n",
       "    <tr>\n",
       "      <th>2</th>\n",
       "      <td>-0.038687</td>\n",
       "      <td>-0.141852</td>\n",
       "      <td>-0.039906</td>\n",
       "      <td>-0.071512</td>\n",
       "      <td>-0.348183</td>\n",
       "      <td>-0.208920</td>\n",
       "      <td>-0.355140</td>\n",
       "      <td>-0.999911</td>\n",
       "      <td>-0.999917</td>\n",
       "      <td>-0.999916</td>\n",
       "      <td>...</td>\n",
       "      <td>-0.373627</td>\n",
       "      <td>-0.048276</td>\n",
       "      <td>-0.144828</td>\n",
       "      <td>-0.047619</td>\n",
       "      <td>-0.075862</td>\n",
       "      <td>-0.356164</td>\n",
       "      <td>-0.227586</td>\n",
       "      <td>-0.365517</td>\n",
       "      <td>-0.165975</td>\n",
       "      <td>T001</td>\n",
       "    </tr>\n",
       "    <tr>\n",
       "      <th>3</th>\n",
       "      <td>-0.390387</td>\n",
       "      <td>-0.273154</td>\n",
       "      <td>-0.255869</td>\n",
       "      <td>-0.146542</td>\n",
       "      <td>-0.249707</td>\n",
       "      <td>-0.164319</td>\n",
       "      <td>-0.352804</td>\n",
       "      <td>-0.999881</td>\n",
       "      <td>-0.999883</td>\n",
       "      <td>-0.999881</td>\n",
       "      <td>...</td>\n",
       "      <td>-0.373556</td>\n",
       "      <td>-0.393103</td>\n",
       "      <td>-0.282759</td>\n",
       "      <td>-0.238095</td>\n",
       "      <td>-0.131034</td>\n",
       "      <td>-0.260274</td>\n",
       "      <td>-0.158621</td>\n",
       "      <td>-0.365517</td>\n",
       "      <td>-0.259336</td>\n",
       "      <td>T001</td>\n",
       "    </tr>\n",
       "    <tr>\n",
       "      <th>4</th>\n",
       "      <td>-0.366940</td>\n",
       "      <td>-0.268464</td>\n",
       "      <td>-0.258216</td>\n",
       "      <td>-0.160610</td>\n",
       "      <td>-0.378664</td>\n",
       "      <td>-0.417840</td>\n",
       "      <td>-0.490654</td>\n",
       "      <td>-0.999849</td>\n",
       "      <td>-0.999849</td>\n",
       "      <td>-0.999846</td>\n",
       "      <td>...</td>\n",
       "      <td>-0.373492</td>\n",
       "      <td>-0.365517</td>\n",
       "      <td>-0.282759</td>\n",
       "      <td>-0.224490</td>\n",
       "      <td>-0.172414</td>\n",
       "      <td>-0.397260</td>\n",
       "      <td>-0.420690</td>\n",
       "      <td>-0.489655</td>\n",
       "      <td>-0.331950</td>\n",
       "      <td>T001</td>\n",
       "    </tr>\n",
       "  </tbody>\n",
       "</table>\n",
       "<p>5 rows × 27 columns</p>\n",
       "</div>"
      ],
      "text/plain": [
       "          0         1         2         3         4         5         6  \\\n",
       "0 -0.235639 -0.242673 -0.328638 -0.177022 -0.352872 -0.192488 -0.331776   \n",
       "1 -0.181712 -0.092614 -0.133803 -0.029308 -0.216882 -0.150235 -0.404206   \n",
       "2 -0.038687 -0.141852 -0.039906 -0.071512 -0.348183 -0.208920 -0.355140   \n",
       "3 -0.390387 -0.273154 -0.255869 -0.146542 -0.249707 -0.164319 -0.352804   \n",
       "4 -0.366940 -0.268464 -0.258216 -0.160610 -0.378664 -0.417840 -0.490654   \n",
       "\n",
       "          7         8         9  ...        17        18        19        20  \\\n",
       "0 -1.000000 -1.000000 -1.000000  ... -0.373788 -0.227586 -0.227586 -0.319728   \n",
       "1 -0.999959 -0.999958 -0.999959  ... -0.373708 -0.186207 -0.117241 -0.115646   \n",
       "2 -0.999911 -0.999917 -0.999916  ... -0.373627 -0.048276 -0.144828 -0.047619   \n",
       "3 -0.999881 -0.999883 -0.999881  ... -0.373556 -0.393103 -0.282759 -0.238095   \n",
       "4 -0.999849 -0.999849 -0.999846  ... -0.373492 -0.365517 -0.282759 -0.224490   \n",
       "\n",
       "         21        22        23        24        25  turbine_id  \n",
       "0 -0.186207 -0.369863 -0.186207 -0.337931 -0.261411        T001  \n",
       "1 -0.062069 -0.232877 -0.144828 -0.406897 -0.170124        T001  \n",
       "2 -0.075862 -0.356164 -0.227586 -0.365517 -0.165975        T001  \n",
       "3 -0.131034 -0.260274 -0.158621 -0.365517 -0.259336        T001  \n",
       "4 -0.172414 -0.397260 -0.420690 -0.489655 -0.331950        T001  \n",
       "\n",
       "[5 rows x 27 columns]"
      ]
     },
     "execution_count": 29,
     "metadata": {},
     "output_type": "execute_result"
    }
   ],
   "source": [
    "context['readings'].head()"
   ]
  },
  {
   "cell_type": "markdown",
   "metadata": {},
   "source": [
    "## pandas.DataFrame.set\n",
    "\n",
    "* Input: readings (dataframe with turbine_id)\n",
    "* Output: readings (dataframe with turbine_id and timestamp)\n",
    "* Effect: timestamp has been set as a readings column"
   ]
  },
  {
   "cell_type": "code",
   "execution_count": 30,
   "metadata": {},
   "outputs": [],
   "source": [
    "step = 7\n",
    "context = pipeline.fit(**context, output_=step, start_=step)"
   ]
  },
  {
   "cell_type": "code",
   "execution_count": 31,
   "metadata": {},
   "outputs": [
    {
     "data": {
      "text/plain": [
       "dict_keys(['readings', 'turbines', 'turbine_id', 'timestamp', 'X', 'y'])"
      ]
     },
     "execution_count": 31,
     "metadata": {},
     "output_type": "execute_result"
    }
   ],
   "source": [
    "context.keys()"
   ]
  },
  {
   "cell_type": "code",
   "execution_count": 32,
   "metadata": {},
   "outputs": [
    {
     "data": {
      "text/html": [
       "<div>\n",
       "<style scoped>\n",
       "    .dataframe tbody tr th:only-of-type {\n",
       "        vertical-align: middle;\n",
       "    }\n",
       "\n",
       "    .dataframe tbody tr th {\n",
       "        vertical-align: top;\n",
       "    }\n",
       "\n",
       "    .dataframe thead th {\n",
       "        text-align: right;\n",
       "    }\n",
       "</style>\n",
       "<table border=\"1\" class=\"dataframe\">\n",
       "  <thead>\n",
       "    <tr style=\"text-align: right;\">\n",
       "      <th></th>\n",
       "      <th>0</th>\n",
       "      <th>1</th>\n",
       "      <th>2</th>\n",
       "      <th>3</th>\n",
       "      <th>4</th>\n",
       "      <th>5</th>\n",
       "      <th>6</th>\n",
       "      <th>7</th>\n",
       "      <th>8</th>\n",
       "      <th>9</th>\n",
       "      <th>...</th>\n",
       "      <th>18</th>\n",
       "      <th>19</th>\n",
       "      <th>20</th>\n",
       "      <th>21</th>\n",
       "      <th>22</th>\n",
       "      <th>23</th>\n",
       "      <th>24</th>\n",
       "      <th>25</th>\n",
       "      <th>turbine_id</th>\n",
       "      <th>timestamp</th>\n",
       "    </tr>\n",
       "  </thead>\n",
       "  <tbody>\n",
       "    <tr>\n",
       "      <th>0</th>\n",
       "      <td>-0.235639</td>\n",
       "      <td>-0.242673</td>\n",
       "      <td>-0.328638</td>\n",
       "      <td>-0.177022</td>\n",
       "      <td>-0.352872</td>\n",
       "      <td>-0.192488</td>\n",
       "      <td>-0.331776</td>\n",
       "      <td>-1.000000</td>\n",
       "      <td>-1.000000</td>\n",
       "      <td>-1.000000</td>\n",
       "      <td>...</td>\n",
       "      <td>-0.227586</td>\n",
       "      <td>-0.227586</td>\n",
       "      <td>-0.319728</td>\n",
       "      <td>-0.186207</td>\n",
       "      <td>-0.369863</td>\n",
       "      <td>-0.186207</td>\n",
       "      <td>-0.337931</td>\n",
       "      <td>-0.261411</td>\n",
       "      <td>T001</td>\n",
       "      <td>2013-01-10 00:00:00</td>\n",
       "    </tr>\n",
       "    <tr>\n",
       "      <th>1</th>\n",
       "      <td>-0.181712</td>\n",
       "      <td>-0.092614</td>\n",
       "      <td>-0.133803</td>\n",
       "      <td>-0.029308</td>\n",
       "      <td>-0.216882</td>\n",
       "      <td>-0.150235</td>\n",
       "      <td>-0.404206</td>\n",
       "      <td>-0.999959</td>\n",
       "      <td>-0.999958</td>\n",
       "      <td>-0.999959</td>\n",
       "      <td>...</td>\n",
       "      <td>-0.186207</td>\n",
       "      <td>-0.117241</td>\n",
       "      <td>-0.115646</td>\n",
       "      <td>-0.062069</td>\n",
       "      <td>-0.232877</td>\n",
       "      <td>-0.144828</td>\n",
       "      <td>-0.406897</td>\n",
       "      <td>-0.170124</td>\n",
       "      <td>T001</td>\n",
       "      <td>2013-01-10 00:10:00</td>\n",
       "    </tr>\n",
       "    <tr>\n",
       "      <th>2</th>\n",
       "      <td>-0.038687</td>\n",
       "      <td>-0.141852</td>\n",
       "      <td>-0.039906</td>\n",
       "      <td>-0.071512</td>\n",
       "      <td>-0.348183</td>\n",
       "      <td>-0.208920</td>\n",
       "      <td>-0.355140</td>\n",
       "      <td>-0.999911</td>\n",
       "      <td>-0.999917</td>\n",
       "      <td>-0.999916</td>\n",
       "      <td>...</td>\n",
       "      <td>-0.048276</td>\n",
       "      <td>-0.144828</td>\n",
       "      <td>-0.047619</td>\n",
       "      <td>-0.075862</td>\n",
       "      <td>-0.356164</td>\n",
       "      <td>-0.227586</td>\n",
       "      <td>-0.365517</td>\n",
       "      <td>-0.165975</td>\n",
       "      <td>T001</td>\n",
       "      <td>2013-01-10 00:20:00</td>\n",
       "    </tr>\n",
       "    <tr>\n",
       "      <th>3</th>\n",
       "      <td>-0.390387</td>\n",
       "      <td>-0.273154</td>\n",
       "      <td>-0.255869</td>\n",
       "      <td>-0.146542</td>\n",
       "      <td>-0.249707</td>\n",
       "      <td>-0.164319</td>\n",
       "      <td>-0.352804</td>\n",
       "      <td>-0.999881</td>\n",
       "      <td>-0.999883</td>\n",
       "      <td>-0.999881</td>\n",
       "      <td>...</td>\n",
       "      <td>-0.393103</td>\n",
       "      <td>-0.282759</td>\n",
       "      <td>-0.238095</td>\n",
       "      <td>-0.131034</td>\n",
       "      <td>-0.260274</td>\n",
       "      <td>-0.158621</td>\n",
       "      <td>-0.365517</td>\n",
       "      <td>-0.259336</td>\n",
       "      <td>T001</td>\n",
       "      <td>2013-01-10 00:30:00</td>\n",
       "    </tr>\n",
       "    <tr>\n",
       "      <th>4</th>\n",
       "      <td>-0.366940</td>\n",
       "      <td>-0.268464</td>\n",
       "      <td>-0.258216</td>\n",
       "      <td>-0.160610</td>\n",
       "      <td>-0.378664</td>\n",
       "      <td>-0.417840</td>\n",
       "      <td>-0.490654</td>\n",
       "      <td>-0.999849</td>\n",
       "      <td>-0.999849</td>\n",
       "      <td>-0.999846</td>\n",
       "      <td>...</td>\n",
       "      <td>-0.365517</td>\n",
       "      <td>-0.282759</td>\n",
       "      <td>-0.224490</td>\n",
       "      <td>-0.172414</td>\n",
       "      <td>-0.397260</td>\n",
       "      <td>-0.420690</td>\n",
       "      <td>-0.489655</td>\n",
       "      <td>-0.331950</td>\n",
       "      <td>T001</td>\n",
       "      <td>2013-01-10 00:40:00</td>\n",
       "    </tr>\n",
       "  </tbody>\n",
       "</table>\n",
       "<p>5 rows × 28 columns</p>\n",
       "</div>"
      ],
      "text/plain": [
       "          0         1         2         3         4         5         6  \\\n",
       "0 -0.235639 -0.242673 -0.328638 -0.177022 -0.352872 -0.192488 -0.331776   \n",
       "1 -0.181712 -0.092614 -0.133803 -0.029308 -0.216882 -0.150235 -0.404206   \n",
       "2 -0.038687 -0.141852 -0.039906 -0.071512 -0.348183 -0.208920 -0.355140   \n",
       "3 -0.390387 -0.273154 -0.255869 -0.146542 -0.249707 -0.164319 -0.352804   \n",
       "4 -0.366940 -0.268464 -0.258216 -0.160610 -0.378664 -0.417840 -0.490654   \n",
       "\n",
       "          7         8         9  ...        18        19        20        21  \\\n",
       "0 -1.000000 -1.000000 -1.000000  ... -0.227586 -0.227586 -0.319728 -0.186207   \n",
       "1 -0.999959 -0.999958 -0.999959  ... -0.186207 -0.117241 -0.115646 -0.062069   \n",
       "2 -0.999911 -0.999917 -0.999916  ... -0.048276 -0.144828 -0.047619 -0.075862   \n",
       "3 -0.999881 -0.999883 -0.999881  ... -0.393103 -0.282759 -0.238095 -0.131034   \n",
       "4 -0.999849 -0.999849 -0.999846  ... -0.365517 -0.282759 -0.224490 -0.172414   \n",
       "\n",
       "         22        23        24        25  turbine_id           timestamp  \n",
       "0 -0.369863 -0.186207 -0.337931 -0.261411        T001 2013-01-10 00:00:00  \n",
       "1 -0.232877 -0.144828 -0.406897 -0.170124        T001 2013-01-10 00:10:00  \n",
       "2 -0.356164 -0.227586 -0.365517 -0.165975        T001 2013-01-10 00:20:00  \n",
       "3 -0.260274 -0.158621 -0.365517 -0.259336        T001 2013-01-10 00:30:00  \n",
       "4 -0.397260 -0.420690 -0.489655 -0.331950        T001 2013-01-10 00:40:00  \n",
       "\n",
       "[5 rows x 28 columns]"
      ]
     },
     "execution_count": 32,
     "metadata": {},
     "output_type": "execute_result"
    }
   ],
   "source": [
    "context['readings'].head()"
   ]
  },
  {
   "cell_type": "markdown",
   "metadata": {},
   "source": [
    "## mlprimitives.custom.timeseries_preprocessing.cutoff_window_sequences\n",
    "\n",
    "* Input: X, readings (dataframe with turbine_id and timestamp)\n",
    "* Output: X\n",
    "* Effect: X has been converted to a 3d numpy array that contains 1 matrix of shape\n",
    "  (window_size x num_signals) for each one of the target times."
   ]
  },
  {
   "cell_type": "code",
   "execution_count": 33,
   "metadata": {},
   "outputs": [
    {
     "data": {
      "text/plain": [
       "{'window_size': 24, 'cutoff_time': 'cutoff_time', 'time_index': 'timestamp'}"
      ]
     },
     "execution_count": 33,
     "metadata": {},
     "output_type": "execute_result"
    }
   ],
   "source": [
    "pipeline._pipeline.get_hyperparameters()[\n",
    "    'mlprimitives.custom.timeseries_preprocessing.cutoff_window_sequences#1']"
   ]
  },
  {
   "cell_type": "code",
   "execution_count": 34,
   "metadata": {},
   "outputs": [],
   "source": [
    "step = 8\n",
    "context = pipeline.fit(**context, output_=step, start_=step)"
   ]
  },
  {
   "cell_type": "code",
   "execution_count": 35,
   "metadata": {},
   "outputs": [
    {
     "data": {
      "text/plain": [
       "dict_keys(['readings', 'turbines', 'turbine_id', 'timestamp', 'X', 'y'])"
      ]
     },
     "execution_count": 35,
     "metadata": {},
     "output_type": "execute_result"
    }
   ],
   "source": [
    "context.keys()"
   ]
  },
  {
   "cell_type": "code",
   "execution_count": 36,
   "metadata": {},
   "outputs": [
    {
     "data": {
      "text/plain": [
       "(51121, 28)"
      ]
     },
     "execution_count": 36,
     "metadata": {},
     "output_type": "execute_result"
    }
   ],
   "source": [
    "context['readings'].shape"
   ]
  },
  {
   "cell_type": "code",
   "execution_count": 37,
   "metadata": {},
   "outputs": [
    {
     "data": {
      "text/plain": [
       "(353,)"
      ]
     },
     "execution_count": 37,
     "metadata": {},
     "output_type": "execute_result"
    }
   ],
   "source": [
    "context['y'].shape"
   ]
  },
  {
   "cell_type": "code",
   "execution_count": 38,
   "metadata": {},
   "outputs": [
    {
     "data": {
      "text/plain": [
       "(353, 24, 26)"
      ]
     },
     "execution_count": 38,
     "metadata": {},
     "output_type": "execute_result"
    }
   ],
   "source": [
    "context['X'].shape"
   ]
  },
  {
   "cell_type": "code",
   "execution_count": 39,
   "metadata": {
    "scrolled": false
   },
   "outputs": [
    {
     "data": {
      "text/plain": [
       "array([[-0.66002345, -0.57327081, -0.64084507, -0.57796014, -0.6014068 ,\n",
       "        -0.56103286, -0.55140187, -0.9928135 , -0.99291267, -0.99315058,\n",
       "        -0.99304288, -0.99346346, -0.99352632, -0.99395333, -0.42553191,\n",
       "        -0.41772152, -0.58730159, -0.35996294, -0.66896552, -0.57241379,\n",
       "        -0.61904762, -0.5862069 , -0.60273973, -0.55862069, -0.55862069,\n",
       "        -0.59751037],\n",
       "       [-0.2989449 , -0.38569754, -0.48591549, -0.47713951, -0.66705744,\n",
       "        -0.5915493 , -0.77336449, -0.99278389, -0.9928852 , -0.99312701,\n",
       "        -0.99301988, -0.9934481 , -0.9935075 , -0.9939459 , -0.39361702,\n",
       "        -0.40506329, -0.54285714, -0.35992014, -0.40689655, -0.42068966,\n",
       "        -0.46938776, -0.48965517, -0.67123288, -0.5862069 , -0.83448276,\n",
       "        -0.5560166 ],\n",
       "       [-0.33645955, -0.40679953, -0.39906103, -0.38569754, -0.56154748,\n",
       "        -0.43192488, -0.45560748, -0.99275498, -0.9928584 , -0.99310017,\n",
       "        -0.99299431, -0.99342739, -0.99348349, -0.99392294, -0.29787234,\n",
       "        -0.3164557 , -0.49206349, -0.35986854, -0.42068966, -0.43448276,\n",
       "        -0.40136054, -0.43448276, -0.56164384, -0.47586207, -0.51724138,\n",
       "        -0.46473029]])"
      ]
     },
     "execution_count": 39,
     "metadata": {},
     "output_type": "execute_result"
    }
   ],
   "source": [
    "context['X'][0][:3]"
   ]
  },
  {
   "cell_type": "markdown",
   "metadata": {},
   "source": [
    "## keras.Sequential.LSTMTimeSeriesClassifier\n",
    "\n",
    "* Input: X, y\n",
    "* Output: \n",
    "* Effect: LSTM has been fitted."
   ]
  },
  {
   "cell_type": "code",
   "execution_count": 40,
   "metadata": {},
   "outputs": [
    {
     "name": "stderr",
     "output_type": "stream",
     "text": [
      "2022-01-18 07:34:41.001707: I tensorflow/core/platform/cpu_feature_guard.cc:142] This TensorFlow binary is optimized with oneAPI Deep Neural Network Library (oneDNN)to use the following CPU instructions in performance-critical operations:  AVX2 FMA\n",
      "To enable them in other operations, rebuild TensorFlow with the appropriate compiler flags.\n",
      "2022-01-18 07:34:41.024991: I tensorflow/compiler/xla/service/service.cc:168] XLA service 0x7fac7ea34260 initialized for platform Host (this does not guarantee that XLA will be used). Devices:\n",
      "2022-01-18 07:34:41.025038: I tensorflow/compiler/xla/service/service.cc:176]   StreamExecutor device (0): Host, Default Version\n"
     ]
    }
   ],
   "source": [
    "step = 9\n",
    "context = pipeline.fit(**context, output_=step, start_=step)"
   ]
  }
 ],
 "metadata": {
  "kernelspec": {
   "display_name": "Python 3 (ipykernel)",
   "language": "python",
   "name": "python3"
  },
  "language_info": {
   "codemirror_mode": {
    "name": "ipython",
    "version": 3
   },
   "file_extension": ".py",
   "mimetype": "text/x-python",
   "name": "python",
   "nbconvert_exporter": "python",
   "pygments_lexer": "ipython3",
   "version": "3.7.11"
  }
 },
 "nbformat": 4,
 "nbformat_minor": 2
}

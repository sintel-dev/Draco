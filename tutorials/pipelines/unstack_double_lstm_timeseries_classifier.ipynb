{
 "cells": [
  {
   "cell_type": "markdown",
   "metadata": {},
   "source": [
    "# unstack_double_lstm_timeseries_classifier"
   ]
  },
  {
   "cell_type": "code",
   "execution_count": 1,
   "metadata": {},
   "outputs": [],
   "source": [
    "from draco.demo import load_demo\n",
    "\n",
    "target_times, readings = load_demo()"
   ]
  },
  {
   "cell_type": "code",
   "execution_count": 2,
   "metadata": {},
   "outputs": [],
   "source": [
    "pipeline_name = 'classes.unstack_double_lstm_timeseries_classifier'"
   ]
  },
  {
   "cell_type": "code",
   "execution_count": 3,
   "metadata": {},
   "outputs": [],
   "source": [
    "from draco.pipeline import DracoPipeline\n",
    "\n",
    "pipeline = DracoPipeline(pipeline_name)"
   ]
  },
  {
   "cell_type": "code",
   "execution_count": 4,
   "metadata": {},
   "outputs": [
    {
     "data": {
      "text/plain": [
       "['pandas.DataFrame.resample',\n",
       " 'pandas.DataFrame.unstack',\n",
       " 'pandas.DataFrame.pop',\n",
       " 'pandas.DataFrame.pop',\n",
       " 'sklearn.impute.SimpleImputer',\n",
       " 'sklearn.preprocessing.MinMaxScaler',\n",
       " 'pandas.DataFrame',\n",
       " 'pandas.DataFrame.set',\n",
       " 'pandas.DataFrame.set',\n",
       " 'mlprimitives.custom.timeseries_preprocessing.cutoff_window_sequences',\n",
       " 'keras.Sequential.DoubleLSTMTimeSeriesClassifier']"
      ]
     },
     "execution_count": 4,
     "metadata": {},
     "output_type": "execute_result"
    }
   ],
   "source": [
    "pipeline.template['primitives']"
   ]
  },
  {
   "cell_type": "markdown",
   "metadata": {},
   "source": [
    "# Step by Step execution"
   ]
  },
  {
   "cell_type": "markdown",
   "metadata": {},
   "source": [
    "## Input Data"
   ]
  },
  {
   "cell_type": "code",
   "execution_count": 5,
   "metadata": {},
   "outputs": [
    {
     "data": {
      "text/html": [
       "<div>\n",
       "<style scoped>\n",
       "    .dataframe tbody tr th:only-of-type {\n",
       "        vertical-align: middle;\n",
       "    }\n",
       "\n",
       "    .dataframe tbody tr th {\n",
       "        vertical-align: top;\n",
       "    }\n",
       "\n",
       "    .dataframe thead th {\n",
       "        text-align: right;\n",
       "    }\n",
       "</style>\n",
       "<table border=\"1\" class=\"dataframe\">\n",
       "  <thead>\n",
       "    <tr style=\"text-align: right;\">\n",
       "      <th></th>\n",
       "      <th>turbine_id</th>\n",
       "      <th>signal_id</th>\n",
       "      <th>timestamp</th>\n",
       "      <th>value</th>\n",
       "    </tr>\n",
       "  </thead>\n",
       "  <tbody>\n",
       "    <tr>\n",
       "      <th>0</th>\n",
       "      <td>T001</td>\n",
       "      <td>S01</td>\n",
       "      <td>2013-01-10</td>\n",
       "      <td>323.0</td>\n",
       "    </tr>\n",
       "    <tr>\n",
       "      <th>1</th>\n",
       "      <td>T001</td>\n",
       "      <td>S02</td>\n",
       "      <td>2013-01-10</td>\n",
       "      <td>320.0</td>\n",
       "    </tr>\n",
       "    <tr>\n",
       "      <th>2</th>\n",
       "      <td>T001</td>\n",
       "      <td>S03</td>\n",
       "      <td>2013-01-10</td>\n",
       "      <td>284.0</td>\n",
       "    </tr>\n",
       "    <tr>\n",
       "      <th>3</th>\n",
       "      <td>T001</td>\n",
       "      <td>S04</td>\n",
       "      <td>2013-01-10</td>\n",
       "      <td>348.0</td>\n",
       "    </tr>\n",
       "    <tr>\n",
       "      <th>4</th>\n",
       "      <td>T001</td>\n",
       "      <td>S05</td>\n",
       "      <td>2013-01-10</td>\n",
       "      <td>273.0</td>\n",
       "    </tr>\n",
       "  </tbody>\n",
       "</table>\n",
       "</div>"
      ],
      "text/plain": [
       "  turbine_id signal_id  timestamp  value\n",
       "0       T001       S01 2013-01-10  323.0\n",
       "1       T001       S02 2013-01-10  320.0\n",
       "2       T001       S03 2013-01-10  284.0\n",
       "3       T001       S04 2013-01-10  348.0\n",
       "4       T001       S05 2013-01-10  273.0"
      ]
     },
     "execution_count": 5,
     "metadata": {},
     "output_type": "execute_result"
    }
   ],
   "source": [
    "readings.head()"
   ]
  },
  {
   "cell_type": "code",
   "execution_count": 6,
   "metadata": {},
   "outputs": [
    {
     "data": {
      "text/html": [
       "<div>\n",
       "<style scoped>\n",
       "    .dataframe tbody tr th:only-of-type {\n",
       "        vertical-align: middle;\n",
       "    }\n",
       "\n",
       "    .dataframe tbody tr th {\n",
       "        vertical-align: top;\n",
       "    }\n",
       "\n",
       "    .dataframe thead th {\n",
       "        text-align: right;\n",
       "    }\n",
       "</style>\n",
       "<table border=\"1\" class=\"dataframe\">\n",
       "  <thead>\n",
       "    <tr style=\"text-align: right;\">\n",
       "      <th></th>\n",
       "      <th>turbine_id</th>\n",
       "      <th>cutoff_time</th>\n",
       "      <th>target</th>\n",
       "    </tr>\n",
       "  </thead>\n",
       "  <tbody>\n",
       "    <tr>\n",
       "      <th>0</th>\n",
       "      <td>T001</td>\n",
       "      <td>2013-01-12</td>\n",
       "      <td>0</td>\n",
       "    </tr>\n",
       "    <tr>\n",
       "      <th>1</th>\n",
       "      <td>T001</td>\n",
       "      <td>2013-01-13</td>\n",
       "      <td>0</td>\n",
       "    </tr>\n",
       "    <tr>\n",
       "      <th>2</th>\n",
       "      <td>T001</td>\n",
       "      <td>2013-01-14</td>\n",
       "      <td>0</td>\n",
       "    </tr>\n",
       "    <tr>\n",
       "      <th>3</th>\n",
       "      <td>T001</td>\n",
       "      <td>2013-01-15</td>\n",
       "      <td>1</td>\n",
       "    </tr>\n",
       "    <tr>\n",
       "      <th>4</th>\n",
       "      <td>T001</td>\n",
       "      <td>2013-01-16</td>\n",
       "      <td>0</td>\n",
       "    </tr>\n",
       "  </tbody>\n",
       "</table>\n",
       "</div>"
      ],
      "text/plain": [
       "  turbine_id cutoff_time  target\n",
       "0       T001  2013-01-12       0\n",
       "1       T001  2013-01-13       0\n",
       "2       T001  2013-01-14       0\n",
       "3       T001  2013-01-15       1\n",
       "4       T001  2013-01-16       0"
      ]
     },
     "execution_count": 6,
     "metadata": {},
     "output_type": "execute_result"
    }
   ],
   "source": [
    "target_times.head()"
   ]
  },
  {
   "cell_type": "markdown",
   "metadata": {},
   "source": [
    "## Data Preparation (part of Draco Pipeline)\n",
    "\n",
    "* Input: target_times, readings, turbines\n",
    "* Output: X, y, readings, turbines\n",
    "* Effect: target_times has been split into X and y"
   ]
  },
  {
   "cell_type": "markdown",
   "metadata": {},
   "source": [
    "## pandas.DataFrame.resample\n",
    "\n",
    "* Input: readings\n",
    "* Output: readings (resampled)\n",
    "* Effect: readings have been resampled to the indicated resample rule and turbine_id,\n",
    "  signal_id and timestamp have been set as a multi-index"
   ]
  },
  {
   "cell_type": "code",
   "execution_count": 7,
   "metadata": {},
   "outputs": [],
   "source": [
    "context = pipeline.fit(target_times, readings, output_=0)"
   ]
  },
  {
   "cell_type": "code",
   "execution_count": 8,
   "metadata": {},
   "outputs": [
    {
     "data": {
      "text/plain": [
       "dict_keys(['readings', 'turbines', 'X', 'y'])"
      ]
     },
     "execution_count": 8,
     "metadata": {},
     "output_type": "execute_result"
    }
   ],
   "source": [
    "context.keys()"
   ]
  },
  {
   "cell_type": "code",
   "execution_count": 9,
   "metadata": {},
   "outputs": [
    {
     "data": {
      "text/html": [
       "<div>\n",
       "<style scoped>\n",
       "    .dataframe tbody tr th:only-of-type {\n",
       "        vertical-align: middle;\n",
       "    }\n",
       "\n",
       "    .dataframe tbody tr th {\n",
       "        vertical-align: top;\n",
       "    }\n",
       "\n",
       "    .dataframe thead th {\n",
       "        text-align: right;\n",
       "    }\n",
       "</style>\n",
       "<table border=\"1\" class=\"dataframe\">\n",
       "  <thead>\n",
       "    <tr style=\"text-align: right;\">\n",
       "      <th></th>\n",
       "      <th></th>\n",
       "      <th></th>\n",
       "      <th>value</th>\n",
       "    </tr>\n",
       "    <tr>\n",
       "      <th>turbine_id</th>\n",
       "      <th>signal_id</th>\n",
       "      <th>timestamp</th>\n",
       "      <th></th>\n",
       "    </tr>\n",
       "  </thead>\n",
       "  <tbody>\n",
       "    <tr>\n",
       "      <th rowspan=\"5\" valign=\"top\">T001</th>\n",
       "      <th rowspan=\"5\" valign=\"top\">S01</th>\n",
       "      <th>2013-01-10 00:00:00</th>\n",
       "      <td>313.333333</td>\n",
       "    </tr>\n",
       "    <tr>\n",
       "      <th>2013-01-10 01:00:00</th>\n",
       "      <td>197.500000</td>\n",
       "    </tr>\n",
       "    <tr>\n",
       "      <th>2013-01-10 02:00:00</th>\n",
       "      <td>248.166667</td>\n",
       "    </tr>\n",
       "    <tr>\n",
       "      <th>2013-01-10 03:00:00</th>\n",
       "      <td>253.166667</td>\n",
       "    </tr>\n",
       "    <tr>\n",
       "      <th>2013-01-10 04:00:00</th>\n",
       "      <td>305.000000</td>\n",
       "    </tr>\n",
       "  </tbody>\n",
       "</table>\n",
       "</div>"
      ],
      "text/plain": [
       "                                               value\n",
       "turbine_id signal_id timestamp                      \n",
       "T001       S01       2013-01-10 00:00:00  313.333333\n",
       "                     2013-01-10 01:00:00  197.500000\n",
       "                     2013-01-10 02:00:00  248.166667\n",
       "                     2013-01-10 03:00:00  253.166667\n",
       "                     2013-01-10 04:00:00  305.000000"
      ]
     },
     "execution_count": 9,
     "metadata": {},
     "output_type": "execute_result"
    }
   ],
   "source": [
    "context['readings'].head()"
   ]
  },
  {
   "cell_type": "markdown",
   "metadata": {},
   "source": [
    "## pandas.DataFrame.unstack\n",
    "\n",
    "* Input: readings (resampled)\n",
    "* Output: readings (unstacked)\n",
    "* Effect: readings have been unstacked"
   ]
  },
  {
   "cell_type": "code",
   "execution_count": 10,
   "metadata": {},
   "outputs": [],
   "source": [
    "step = 1\n",
    "context = pipeline.fit(**context, output_=step, start_=step)"
   ]
  },
  {
   "cell_type": "code",
   "execution_count": 11,
   "metadata": {},
   "outputs": [
    {
     "data": {
      "text/plain": [
       "dict_keys(['readings', 'turbines', 'X', 'y'])"
      ]
     },
     "execution_count": 11,
     "metadata": {},
     "output_type": "execute_result"
    }
   ],
   "source": [
    "context.keys()"
   ]
  },
  {
   "cell_type": "code",
   "execution_count": 12,
   "metadata": {},
   "outputs": [
    {
     "data": {
      "text/html": [
       "<div>\n",
       "<style scoped>\n",
       "    .dataframe tbody tr th:only-of-type {\n",
       "        vertical-align: middle;\n",
       "    }\n",
       "\n",
       "    .dataframe tbody tr th {\n",
       "        vertical-align: top;\n",
       "    }\n",
       "\n",
       "    .dataframe thead th {\n",
       "        text-align: right;\n",
       "    }\n",
       "</style>\n",
       "<table border=\"1\" class=\"dataframe\">\n",
       "  <thead>\n",
       "    <tr style=\"text-align: right;\">\n",
       "      <th></th>\n",
       "      <th>turbine_id</th>\n",
       "      <th>timestamp</th>\n",
       "      <th>value_S01</th>\n",
       "      <th>value_S02</th>\n",
       "      <th>value_S03</th>\n",
       "      <th>value_S04</th>\n",
       "      <th>value_S05</th>\n",
       "      <th>value_S06</th>\n",
       "      <th>value_S07</th>\n",
       "      <th>value_S08</th>\n",
       "      <th>...</th>\n",
       "      <th>value_S17</th>\n",
       "      <th>value_S18</th>\n",
       "      <th>value_S19</th>\n",
       "      <th>value_S20</th>\n",
       "      <th>value_S21</th>\n",
       "      <th>value_S22</th>\n",
       "      <th>value_S23</th>\n",
       "      <th>value_S24</th>\n",
       "      <th>value_S25</th>\n",
       "      <th>value_S26</th>\n",
       "    </tr>\n",
       "  </thead>\n",
       "  <tbody>\n",
       "    <tr>\n",
       "      <th>0</th>\n",
       "      <td>T001</td>\n",
       "      <td>2013-01-10 00:00:00</td>\n",
       "      <td>313.333333</td>\n",
       "      <td>323.833333</td>\n",
       "      <td>336.000000</td>\n",
       "      <td>364.666667</td>\n",
       "      <td>286.500000</td>\n",
       "      <td>314.000000</td>\n",
       "      <td>243.166667</td>\n",
       "      <td>3.197980e+06</td>\n",
       "      <td>...</td>\n",
       "      <td>10.383333</td>\n",
       "      <td>3.131958e+06</td>\n",
       "      <td>52.666667</td>\n",
       "      <td>54.333333</td>\n",
       "      <td>56.166667</td>\n",
       "      <td>61.000000</td>\n",
       "      <td>47.666667</td>\n",
       "      <td>52.666667</td>\n",
       "      <td>40.833333</td>\n",
       "      <td>357.333333</td>\n",
       "    </tr>\n",
       "    <tr>\n",
       "      <th>1</th>\n",
       "      <td>T001</td>\n",
       "      <td>2013-01-10 01:00:00</td>\n",
       "      <td>197.500000</td>\n",
       "      <td>221.333333</td>\n",
       "      <td>216.000000</td>\n",
       "      <td>260.666667</td>\n",
       "      <td>206.833333</td>\n",
       "      <td>235.833333</td>\n",
       "      <td>186.666667</td>\n",
       "      <td>3.198221e+06</td>\n",
       "      <td>...</td>\n",
       "      <td>8.666667</td>\n",
       "      <td>3.133668e+06</td>\n",
       "      <td>33.166667</td>\n",
       "      <td>37.000000</td>\n",
       "      <td>36.166667</td>\n",
       "      <td>43.666667</td>\n",
       "      <td>34.500000</td>\n",
       "      <td>39.333333</td>\n",
       "      <td>31.166667</td>\n",
       "      <td>249.666667</td>\n",
       "    </tr>\n",
       "    <tr>\n",
       "      <th>2</th>\n",
       "      <td>T001</td>\n",
       "      <td>2013-01-10 02:00:00</td>\n",
       "      <td>248.166667</td>\n",
       "      <td>271.666667</td>\n",
       "      <td>277.500000</td>\n",
       "      <td>298.000000</td>\n",
       "      <td>233.666667</td>\n",
       "      <td>271.166667</td>\n",
       "      <td>216.333333</td>\n",
       "      <td>3.198448e+06</td>\n",
       "      <td>...</td>\n",
       "      <td>8.833333</td>\n",
       "      <td>3.135413e+06</td>\n",
       "      <td>41.500000</td>\n",
       "      <td>45.666667</td>\n",
       "      <td>46.500000</td>\n",
       "      <td>49.666667</td>\n",
       "      <td>39.333333</td>\n",
       "      <td>45.500000</td>\n",
       "      <td>36.166667</td>\n",
       "      <td>297.666667</td>\n",
       "    </tr>\n",
       "    <tr>\n",
       "      <th>3</th>\n",
       "      <td>T001</td>\n",
       "      <td>2013-01-10 03:00:00</td>\n",
       "      <td>253.166667</td>\n",
       "      <td>256.166667</td>\n",
       "      <td>242.666667</td>\n",
       "      <td>265.333333</td>\n",
       "      <td>211.666667</td>\n",
       "      <td>226.666667</td>\n",
       "      <td>181.000000</td>\n",
       "      <td>3.198691e+06</td>\n",
       "      <td>...</td>\n",
       "      <td>8.433333</td>\n",
       "      <td>3.137001e+06</td>\n",
       "      <td>42.333333</td>\n",
       "      <td>42.833333</td>\n",
       "      <td>40.500000</td>\n",
       "      <td>44.166667</td>\n",
       "      <td>35.333333</td>\n",
       "      <td>37.833333</td>\n",
       "      <td>30.333333</td>\n",
       "      <td>268.000000</td>\n",
       "    </tr>\n",
       "    <tr>\n",
       "      <th>4</th>\n",
       "      <td>T001</td>\n",
       "      <td>2013-01-10 04:00:00</td>\n",
       "      <td>305.000000</td>\n",
       "      <td>312.333333</td>\n",
       "      <td>346.166667</td>\n",
       "      <td>329.833333</td>\n",
       "      <td>280.666667</td>\n",
       "      <td>308.833333</td>\n",
       "      <td>271.833333</td>\n",
       "      <td>3.198978e+06</td>\n",
       "      <td>...</td>\n",
       "      <td>9.083333</td>\n",
       "      <td>3.138843e+06</td>\n",
       "      <td>50.500000</td>\n",
       "      <td>51.166667</td>\n",
       "      <td>55.500000</td>\n",
       "      <td>53.666667</td>\n",
       "      <td>46.166667</td>\n",
       "      <td>49.666667</td>\n",
       "      <td>41.166667</td>\n",
       "      <td>341.833333</td>\n",
       "    </tr>\n",
       "  </tbody>\n",
       "</table>\n",
       "<p>5 rows × 28 columns</p>\n",
       "</div>"
      ],
      "text/plain": [
       "  turbine_id           timestamp   value_S01   value_S02   value_S03  \\\n",
       "0       T001 2013-01-10 00:00:00  313.333333  323.833333  336.000000   \n",
       "1       T001 2013-01-10 01:00:00  197.500000  221.333333  216.000000   \n",
       "2       T001 2013-01-10 02:00:00  248.166667  271.666667  277.500000   \n",
       "3       T001 2013-01-10 03:00:00  253.166667  256.166667  242.666667   \n",
       "4       T001 2013-01-10 04:00:00  305.000000  312.333333  346.166667   \n",
       "\n",
       "    value_S04   value_S05   value_S06   value_S07     value_S08  ...  \\\n",
       "0  364.666667  286.500000  314.000000  243.166667  3.197980e+06  ...   \n",
       "1  260.666667  206.833333  235.833333  186.666667  3.198221e+06  ...   \n",
       "2  298.000000  233.666667  271.166667  216.333333  3.198448e+06  ...   \n",
       "3  265.333333  211.666667  226.666667  181.000000  3.198691e+06  ...   \n",
       "4  329.833333  280.666667  308.833333  271.833333  3.198978e+06  ...   \n",
       "\n",
       "   value_S17     value_S18  value_S19  value_S20  value_S21  value_S22  \\\n",
       "0  10.383333  3.131958e+06  52.666667  54.333333  56.166667  61.000000   \n",
       "1   8.666667  3.133668e+06  33.166667  37.000000  36.166667  43.666667   \n",
       "2   8.833333  3.135413e+06  41.500000  45.666667  46.500000  49.666667   \n",
       "3   8.433333  3.137001e+06  42.333333  42.833333  40.500000  44.166667   \n",
       "4   9.083333  3.138843e+06  50.500000  51.166667  55.500000  53.666667   \n",
       "\n",
       "   value_S23  value_S24  value_S25   value_S26  \n",
       "0  47.666667  52.666667  40.833333  357.333333  \n",
       "1  34.500000  39.333333  31.166667  249.666667  \n",
       "2  39.333333  45.500000  36.166667  297.666667  \n",
       "3  35.333333  37.833333  30.333333  268.000000  \n",
       "4  46.166667  49.666667  41.166667  341.833333  \n",
       "\n",
       "[5 rows x 28 columns]"
      ]
     },
     "execution_count": 12,
     "metadata": {},
     "output_type": "execute_result"
    }
   ],
   "source": [
    "context['readings'].head()"
   ]
  },
  {
   "cell_type": "markdown",
   "metadata": {},
   "source": [
    "## pandas.DataFrame.pop\n",
    "\n",
    "* Input: readings (unstacked)\n",
    "* Output: readings (without turbine_id), turbine_id\n",
    "* Effect: turbine_id has been popped from readings"
   ]
  },
  {
   "cell_type": "code",
   "execution_count": 13,
   "metadata": {},
   "outputs": [],
   "source": [
    "step = 2\n",
    "context = pipeline.fit(**context, output_=step, start_=step)"
   ]
  },
  {
   "cell_type": "code",
   "execution_count": 14,
   "metadata": {},
   "outputs": [
    {
     "data": {
      "text/plain": [
       "dict_keys(['readings', 'turbines', 'X', 'y', 'turbine_id'])"
      ]
     },
     "execution_count": 14,
     "metadata": {},
     "output_type": "execute_result"
    }
   ],
   "source": [
    "context.keys()"
   ]
  },
  {
   "cell_type": "code",
   "execution_count": 15,
   "metadata": {},
   "outputs": [
    {
     "data": {
      "text/plain": [
       "0    T001\n",
       "1    T001\n",
       "2    T001\n",
       "3    T001\n",
       "4    T001\n",
       "Name: turbine_id, dtype: object"
      ]
     },
     "execution_count": 15,
     "metadata": {},
     "output_type": "execute_result"
    }
   ],
   "source": [
    "context['turbine_id'].head()"
   ]
  },
  {
   "cell_type": "code",
   "execution_count": 16,
   "metadata": {},
   "outputs": [
    {
     "data": {
      "text/html": [
       "<div>\n",
       "<style scoped>\n",
       "    .dataframe tbody tr th:only-of-type {\n",
       "        vertical-align: middle;\n",
       "    }\n",
       "\n",
       "    .dataframe tbody tr th {\n",
       "        vertical-align: top;\n",
       "    }\n",
       "\n",
       "    .dataframe thead th {\n",
       "        text-align: right;\n",
       "    }\n",
       "</style>\n",
       "<table border=\"1\" class=\"dataframe\">\n",
       "  <thead>\n",
       "    <tr style=\"text-align: right;\">\n",
       "      <th></th>\n",
       "      <th>timestamp</th>\n",
       "      <th>value_S01</th>\n",
       "      <th>value_S02</th>\n",
       "      <th>value_S03</th>\n",
       "      <th>value_S04</th>\n",
       "      <th>value_S05</th>\n",
       "      <th>value_S06</th>\n",
       "      <th>value_S07</th>\n",
       "      <th>value_S08</th>\n",
       "      <th>value_S09</th>\n",
       "      <th>...</th>\n",
       "      <th>value_S17</th>\n",
       "      <th>value_S18</th>\n",
       "      <th>value_S19</th>\n",
       "      <th>value_S20</th>\n",
       "      <th>value_S21</th>\n",
       "      <th>value_S22</th>\n",
       "      <th>value_S23</th>\n",
       "      <th>value_S24</th>\n",
       "      <th>value_S25</th>\n",
       "      <th>value_S26</th>\n",
       "    </tr>\n",
       "  </thead>\n",
       "  <tbody>\n",
       "    <tr>\n",
       "      <th>0</th>\n",
       "      <td>2013-01-10 00:00:00</td>\n",
       "      <td>313.333333</td>\n",
       "      <td>323.833333</td>\n",
       "      <td>336.000000</td>\n",
       "      <td>364.666667</td>\n",
       "      <td>286.500000</td>\n",
       "      <td>314.000000</td>\n",
       "      <td>243.166667</td>\n",
       "      <td>3.197980e+06</td>\n",
       "      <td>695143.166667</td>\n",
       "      <td>...</td>\n",
       "      <td>10.383333</td>\n",
       "      <td>3.131958e+06</td>\n",
       "      <td>52.666667</td>\n",
       "      <td>54.333333</td>\n",
       "      <td>56.166667</td>\n",
       "      <td>61.000000</td>\n",
       "      <td>47.666667</td>\n",
       "      <td>52.666667</td>\n",
       "      <td>40.833333</td>\n",
       "      <td>357.333333</td>\n",
       "    </tr>\n",
       "    <tr>\n",
       "      <th>1</th>\n",
       "      <td>2013-01-10 01:00:00</td>\n",
       "      <td>197.500000</td>\n",
       "      <td>221.333333</td>\n",
       "      <td>216.000000</td>\n",
       "      <td>260.666667</td>\n",
       "      <td>206.833333</td>\n",
       "      <td>235.833333</td>\n",
       "      <td>186.666667</td>\n",
       "      <td>3.198221e+06</td>\n",
       "      <td>695403.666667</td>\n",
       "      <td>...</td>\n",
       "      <td>8.666667</td>\n",
       "      <td>3.133668e+06</td>\n",
       "      <td>33.166667</td>\n",
       "      <td>37.000000</td>\n",
       "      <td>36.166667</td>\n",
       "      <td>43.666667</td>\n",
       "      <td>34.500000</td>\n",
       "      <td>39.333333</td>\n",
       "      <td>31.166667</td>\n",
       "      <td>249.666667</td>\n",
       "    </tr>\n",
       "    <tr>\n",
       "      <th>2</th>\n",
       "      <td>2013-01-10 02:00:00</td>\n",
       "      <td>248.166667</td>\n",
       "      <td>271.666667</td>\n",
       "      <td>277.500000</td>\n",
       "      <td>298.000000</td>\n",
       "      <td>233.666667</td>\n",
       "      <td>271.166667</td>\n",
       "      <td>216.333333</td>\n",
       "      <td>3.198448e+06</td>\n",
       "      <td>695656.500000</td>\n",
       "      <td>...</td>\n",
       "      <td>8.833333</td>\n",
       "      <td>3.135413e+06</td>\n",
       "      <td>41.500000</td>\n",
       "      <td>45.666667</td>\n",
       "      <td>46.500000</td>\n",
       "      <td>49.666667</td>\n",
       "      <td>39.333333</td>\n",
       "      <td>45.500000</td>\n",
       "      <td>36.166667</td>\n",
       "      <td>297.666667</td>\n",
       "    </tr>\n",
       "    <tr>\n",
       "      <th>3</th>\n",
       "      <td>2013-01-10 03:00:00</td>\n",
       "      <td>253.166667</td>\n",
       "      <td>256.166667</td>\n",
       "      <td>242.666667</td>\n",
       "      <td>265.333333</td>\n",
       "      <td>211.666667</td>\n",
       "      <td>226.666667</td>\n",
       "      <td>181.000000</td>\n",
       "      <td>3.198691e+06</td>\n",
       "      <td>695911.333333</td>\n",
       "      <td>...</td>\n",
       "      <td>8.433333</td>\n",
       "      <td>3.137001e+06</td>\n",
       "      <td>42.333333</td>\n",
       "      <td>42.833333</td>\n",
       "      <td>40.500000</td>\n",
       "      <td>44.166667</td>\n",
       "      <td>35.333333</td>\n",
       "      <td>37.833333</td>\n",
       "      <td>30.333333</td>\n",
       "      <td>268.000000</td>\n",
       "    </tr>\n",
       "    <tr>\n",
       "      <th>4</th>\n",
       "      <td>2013-01-10 04:00:00</td>\n",
       "      <td>305.000000</td>\n",
       "      <td>312.333333</td>\n",
       "      <td>346.166667</td>\n",
       "      <td>329.833333</td>\n",
       "      <td>280.666667</td>\n",
       "      <td>308.833333</td>\n",
       "      <td>271.833333</td>\n",
       "      <td>3.198978e+06</td>\n",
       "      <td>696195.833333</td>\n",
       "      <td>...</td>\n",
       "      <td>9.083333</td>\n",
       "      <td>3.138843e+06</td>\n",
       "      <td>50.500000</td>\n",
       "      <td>51.166667</td>\n",
       "      <td>55.500000</td>\n",
       "      <td>53.666667</td>\n",
       "      <td>46.166667</td>\n",
       "      <td>49.666667</td>\n",
       "      <td>41.166667</td>\n",
       "      <td>341.833333</td>\n",
       "    </tr>\n",
       "  </tbody>\n",
       "</table>\n",
       "<p>5 rows × 27 columns</p>\n",
       "</div>"
      ],
      "text/plain": [
       "            timestamp   value_S01   value_S02   value_S03   value_S04  \\\n",
       "0 2013-01-10 00:00:00  313.333333  323.833333  336.000000  364.666667   \n",
       "1 2013-01-10 01:00:00  197.500000  221.333333  216.000000  260.666667   \n",
       "2 2013-01-10 02:00:00  248.166667  271.666667  277.500000  298.000000   \n",
       "3 2013-01-10 03:00:00  253.166667  256.166667  242.666667  265.333333   \n",
       "4 2013-01-10 04:00:00  305.000000  312.333333  346.166667  329.833333   \n",
       "\n",
       "    value_S05   value_S06   value_S07     value_S08      value_S09  ...  \\\n",
       "0  286.500000  314.000000  243.166667  3.197980e+06  695143.166667  ...   \n",
       "1  206.833333  235.833333  186.666667  3.198221e+06  695403.666667  ...   \n",
       "2  233.666667  271.166667  216.333333  3.198448e+06  695656.500000  ...   \n",
       "3  211.666667  226.666667  181.000000  3.198691e+06  695911.333333  ...   \n",
       "4  280.666667  308.833333  271.833333  3.198978e+06  696195.833333  ...   \n",
       "\n",
       "   value_S17     value_S18  value_S19  value_S20  value_S21  value_S22  \\\n",
       "0  10.383333  3.131958e+06  52.666667  54.333333  56.166667  61.000000   \n",
       "1   8.666667  3.133668e+06  33.166667  37.000000  36.166667  43.666667   \n",
       "2   8.833333  3.135413e+06  41.500000  45.666667  46.500000  49.666667   \n",
       "3   8.433333  3.137001e+06  42.333333  42.833333  40.500000  44.166667   \n",
       "4   9.083333  3.138843e+06  50.500000  51.166667  55.500000  53.666667   \n",
       "\n",
       "   value_S23  value_S24  value_S25   value_S26  \n",
       "0  47.666667  52.666667  40.833333  357.333333  \n",
       "1  34.500000  39.333333  31.166667  249.666667  \n",
       "2  39.333333  45.500000  36.166667  297.666667  \n",
       "3  35.333333  37.833333  30.333333  268.000000  \n",
       "4  46.166667  49.666667  41.166667  341.833333  \n",
       "\n",
       "[5 rows x 27 columns]"
      ]
     },
     "execution_count": 16,
     "metadata": {},
     "output_type": "execute_result"
    }
   ],
   "source": [
    "context['readings'].head()"
   ]
  },
  {
   "cell_type": "markdown",
   "metadata": {},
   "source": [
    "## pandas.DataFrame.pop\n",
    "\n",
    "* Input: readings (without turbine_id)\n",
    "* Output: readings (without timestamp), timestamp\n",
    "* Effect: timestamp has been popped from readings"
   ]
  },
  {
   "cell_type": "code",
   "execution_count": 17,
   "metadata": {},
   "outputs": [],
   "source": [
    "step = 3\n",
    "context = pipeline.fit(**context, output_=step, start_=step)"
   ]
  },
  {
   "cell_type": "code",
   "execution_count": 18,
   "metadata": {},
   "outputs": [
    {
     "data": {
      "text/plain": [
       "dict_keys(['readings', 'turbines', 'turbine_id', 'X', 'y', 'timestamp'])"
      ]
     },
     "execution_count": 18,
     "metadata": {},
     "output_type": "execute_result"
    }
   ],
   "source": [
    "context.keys()"
   ]
  },
  {
   "cell_type": "code",
   "execution_count": 19,
   "metadata": {},
   "outputs": [
    {
     "data": {
      "text/plain": [
       "0   2013-01-10 00:00:00\n",
       "1   2013-01-10 01:00:00\n",
       "2   2013-01-10 02:00:00\n",
       "3   2013-01-10 03:00:00\n",
       "4   2013-01-10 04:00:00\n",
       "Name: timestamp, dtype: datetime64[ns]"
      ]
     },
     "execution_count": 19,
     "metadata": {},
     "output_type": "execute_result"
    }
   ],
   "source": [
    "context['timestamp'].head()"
   ]
  },
  {
   "cell_type": "code",
   "execution_count": 20,
   "metadata": {},
   "outputs": [
    {
     "data": {
      "text/html": [
       "<div>\n",
       "<style scoped>\n",
       "    .dataframe tbody tr th:only-of-type {\n",
       "        vertical-align: middle;\n",
       "    }\n",
       "\n",
       "    .dataframe tbody tr th {\n",
       "        vertical-align: top;\n",
       "    }\n",
       "\n",
       "    .dataframe thead th {\n",
       "        text-align: right;\n",
       "    }\n",
       "</style>\n",
       "<table border=\"1\" class=\"dataframe\">\n",
       "  <thead>\n",
       "    <tr style=\"text-align: right;\">\n",
       "      <th></th>\n",
       "      <th>value_S01</th>\n",
       "      <th>value_S02</th>\n",
       "      <th>value_S03</th>\n",
       "      <th>value_S04</th>\n",
       "      <th>value_S05</th>\n",
       "      <th>value_S06</th>\n",
       "      <th>value_S07</th>\n",
       "      <th>value_S08</th>\n",
       "      <th>value_S09</th>\n",
       "      <th>value_S10</th>\n",
       "      <th>...</th>\n",
       "      <th>value_S17</th>\n",
       "      <th>value_S18</th>\n",
       "      <th>value_S19</th>\n",
       "      <th>value_S20</th>\n",
       "      <th>value_S21</th>\n",
       "      <th>value_S22</th>\n",
       "      <th>value_S23</th>\n",
       "      <th>value_S24</th>\n",
       "      <th>value_S25</th>\n",
       "      <th>value_S26</th>\n",
       "    </tr>\n",
       "  </thead>\n",
       "  <tbody>\n",
       "    <tr>\n",
       "      <th>0</th>\n",
       "      <td>313.333333</td>\n",
       "      <td>323.833333</td>\n",
       "      <td>336.000000</td>\n",
       "      <td>364.666667</td>\n",
       "      <td>286.500000</td>\n",
       "      <td>314.000000</td>\n",
       "      <td>243.166667</td>\n",
       "      <td>3.197980e+06</td>\n",
       "      <td>695143.166667</td>\n",
       "      <td>3.348384e+06</td>\n",
       "      <td>...</td>\n",
       "      <td>10.383333</td>\n",
       "      <td>3.131958e+06</td>\n",
       "      <td>52.666667</td>\n",
       "      <td>54.333333</td>\n",
       "      <td>56.166667</td>\n",
       "      <td>61.000000</td>\n",
       "      <td>47.666667</td>\n",
       "      <td>52.666667</td>\n",
       "      <td>40.833333</td>\n",
       "      <td>357.333333</td>\n",
       "    </tr>\n",
       "    <tr>\n",
       "      <th>1</th>\n",
       "      <td>197.500000</td>\n",
       "      <td>221.333333</td>\n",
       "      <td>216.000000</td>\n",
       "      <td>260.666667</td>\n",
       "      <td>206.833333</td>\n",
       "      <td>235.833333</td>\n",
       "      <td>186.666667</td>\n",
       "      <td>3.198221e+06</td>\n",
       "      <td>695403.666667</td>\n",
       "      <td>3.348651e+06</td>\n",
       "      <td>...</td>\n",
       "      <td>8.666667</td>\n",
       "      <td>3.133668e+06</td>\n",
       "      <td>33.166667</td>\n",
       "      <td>37.000000</td>\n",
       "      <td>36.166667</td>\n",
       "      <td>43.666667</td>\n",
       "      <td>34.500000</td>\n",
       "      <td>39.333333</td>\n",
       "      <td>31.166667</td>\n",
       "      <td>249.666667</td>\n",
       "    </tr>\n",
       "    <tr>\n",
       "      <th>2</th>\n",
       "      <td>248.166667</td>\n",
       "      <td>271.666667</td>\n",
       "      <td>277.500000</td>\n",
       "      <td>298.000000</td>\n",
       "      <td>233.666667</td>\n",
       "      <td>271.166667</td>\n",
       "      <td>216.333333</td>\n",
       "      <td>3.198448e+06</td>\n",
       "      <td>695656.500000</td>\n",
       "      <td>3.348910e+06</td>\n",
       "      <td>...</td>\n",
       "      <td>8.833333</td>\n",
       "      <td>3.135413e+06</td>\n",
       "      <td>41.500000</td>\n",
       "      <td>45.666667</td>\n",
       "      <td>46.500000</td>\n",
       "      <td>49.666667</td>\n",
       "      <td>39.333333</td>\n",
       "      <td>45.500000</td>\n",
       "      <td>36.166667</td>\n",
       "      <td>297.666667</td>\n",
       "    </tr>\n",
       "    <tr>\n",
       "      <th>3</th>\n",
       "      <td>253.166667</td>\n",
       "      <td>256.166667</td>\n",
       "      <td>242.666667</td>\n",
       "      <td>265.333333</td>\n",
       "      <td>211.666667</td>\n",
       "      <td>226.666667</td>\n",
       "      <td>181.000000</td>\n",
       "      <td>3.198691e+06</td>\n",
       "      <td>695911.333333</td>\n",
       "      <td>3.349157e+06</td>\n",
       "      <td>...</td>\n",
       "      <td>8.433333</td>\n",
       "      <td>3.137001e+06</td>\n",
       "      <td>42.333333</td>\n",
       "      <td>42.833333</td>\n",
       "      <td>40.500000</td>\n",
       "      <td>44.166667</td>\n",
       "      <td>35.333333</td>\n",
       "      <td>37.833333</td>\n",
       "      <td>30.333333</td>\n",
       "      <td>268.000000</td>\n",
       "    </tr>\n",
       "    <tr>\n",
       "      <th>4</th>\n",
       "      <td>305.000000</td>\n",
       "      <td>312.333333</td>\n",
       "      <td>346.166667</td>\n",
       "      <td>329.833333</td>\n",
       "      <td>280.666667</td>\n",
       "      <td>308.833333</td>\n",
       "      <td>271.833333</td>\n",
       "      <td>3.198978e+06</td>\n",
       "      <td>696195.833333</td>\n",
       "      <td>3.349452e+06</td>\n",
       "      <td>...</td>\n",
       "      <td>9.083333</td>\n",
       "      <td>3.138843e+06</td>\n",
       "      <td>50.500000</td>\n",
       "      <td>51.166667</td>\n",
       "      <td>55.500000</td>\n",
       "      <td>53.666667</td>\n",
       "      <td>46.166667</td>\n",
       "      <td>49.666667</td>\n",
       "      <td>41.166667</td>\n",
       "      <td>341.833333</td>\n",
       "    </tr>\n",
       "  </tbody>\n",
       "</table>\n",
       "<p>5 rows × 26 columns</p>\n",
       "</div>"
      ],
      "text/plain": [
       "    value_S01   value_S02   value_S03   value_S04   value_S05   value_S06  \\\n",
       "0  313.333333  323.833333  336.000000  364.666667  286.500000  314.000000   \n",
       "1  197.500000  221.333333  216.000000  260.666667  206.833333  235.833333   \n",
       "2  248.166667  271.666667  277.500000  298.000000  233.666667  271.166667   \n",
       "3  253.166667  256.166667  242.666667  265.333333  211.666667  226.666667   \n",
       "4  305.000000  312.333333  346.166667  329.833333  280.666667  308.833333   \n",
       "\n",
       "    value_S07     value_S08      value_S09     value_S10  ...  value_S17  \\\n",
       "0  243.166667  3.197980e+06  695143.166667  3.348384e+06  ...  10.383333   \n",
       "1  186.666667  3.198221e+06  695403.666667  3.348651e+06  ...   8.666667   \n",
       "2  216.333333  3.198448e+06  695656.500000  3.348910e+06  ...   8.833333   \n",
       "3  181.000000  3.198691e+06  695911.333333  3.349157e+06  ...   8.433333   \n",
       "4  271.833333  3.198978e+06  696195.833333  3.349452e+06  ...   9.083333   \n",
       "\n",
       "      value_S18  value_S19  value_S20  value_S21  value_S22  value_S23  \\\n",
       "0  3.131958e+06  52.666667  54.333333  56.166667  61.000000  47.666667   \n",
       "1  3.133668e+06  33.166667  37.000000  36.166667  43.666667  34.500000   \n",
       "2  3.135413e+06  41.500000  45.666667  46.500000  49.666667  39.333333   \n",
       "3  3.137001e+06  42.333333  42.833333  40.500000  44.166667  35.333333   \n",
       "4  3.138843e+06  50.500000  51.166667  55.500000  53.666667  46.166667   \n",
       "\n",
       "   value_S24  value_S25   value_S26  \n",
       "0  52.666667  40.833333  357.333333  \n",
       "1  39.333333  31.166667  249.666667  \n",
       "2  45.500000  36.166667  297.666667  \n",
       "3  37.833333  30.333333  268.000000  \n",
       "4  49.666667  41.166667  341.833333  \n",
       "\n",
       "[5 rows x 26 columns]"
      ]
     },
     "execution_count": 20,
     "metadata": {},
     "output_type": "execute_result"
    }
   ],
   "source": [
    "context['readings'].head()"
   ]
  },
  {
   "cell_type": "markdown",
   "metadata": {},
   "source": [
    "## sklearn.impute.SimpleImputer\n",
    "\n",
    "* Input: readings (unstacked, no turbine_id, no timestamp)\n",
    "* Output: readings (imputed, numpy array)\n",
    "* Effect: readings have been imputed and converted to numpy array"
   ]
  },
  {
   "cell_type": "code",
   "execution_count": 21,
   "metadata": {},
   "outputs": [],
   "source": [
    "step = 4\n",
    "context = pipeline.fit(**context, output_=step, start_=step)"
   ]
  },
  {
   "cell_type": "code",
   "execution_count": 22,
   "metadata": {},
   "outputs": [
    {
     "data": {
      "text/plain": [
       "dict_keys(['readings', 'turbines', 'turbine_id', 'timestamp', 'X', 'y'])"
      ]
     },
     "execution_count": 22,
     "metadata": {},
     "output_type": "execute_result"
    }
   ],
   "source": [
    "context.keys()"
   ]
  },
  {
   "cell_type": "code",
   "execution_count": 23,
   "metadata": {},
   "outputs": [
    {
     "data": {
      "text/plain": [
       "array([[3.13333333e+02, 3.23833333e+02, 3.36000000e+02, 3.64666667e+02,\n",
       "        2.86500000e+02, 3.14000000e+02, 2.43166667e+02, 3.19798000e+06,\n",
       "        6.95143167e+05, 3.34838383e+06, 3.43692150e+06, 3.32248667e+06,\n",
       "        3.35809000e+06, 3.22390150e+06, 7.95000000e+00, 5.85000000e+00,\n",
       "        1.03833333e+01, 3.13195833e+06, 5.26666667e+01, 5.43333333e+01,\n",
       "        5.61666667e+01, 6.10000000e+01, 4.76666667e+01, 5.26666667e+01,\n",
       "        4.08333333e+01, 3.57333333e+02],\n",
       "       [1.97500000e+02, 2.21333333e+02, 2.16000000e+02, 2.60666667e+02,\n",
       "        2.06833333e+02, 2.35833333e+02, 1.86666667e+02, 3.19822067e+06,\n",
       "        6.95403667e+05, 3.34865117e+06, 3.43722283e+06, 3.32272200e+06,\n",
       "        3.35834000e+06, 3.22409567e+06, 6.83333333e+00, 5.15000000e+00,\n",
       "        8.66666667e+00, 3.13366817e+06, 3.31666667e+01, 3.70000000e+01,\n",
       "        3.61666667e+01, 4.36666667e+01, 3.45000000e+01, 3.93333333e+01,\n",
       "        3.11666667e+01, 2.49666667e+02],\n",
       "       [2.48166667e+02, 2.71666667e+02, 2.77500000e+02, 2.98000000e+02,\n",
       "        2.33666667e+02, 2.71166667e+02, 2.16333333e+02, 3.19844767e+06,\n",
       "        6.95656500e+05, 3.34890967e+06, 3.43751900e+06, 3.32295950e+06,\n",
       "        3.35862067e+06, 3.22432333e+06, 7.11666667e+00, 5.56666667e+00,\n",
       "        8.83333333e+00, 3.13541283e+06, 4.15000000e+01, 4.56666667e+01,\n",
       "        4.65000000e+01, 4.96666667e+01, 3.93333333e+01, 4.55000000e+01,\n",
       "        3.61666667e+01, 2.97666667e+02],\n",
       "       [2.53166667e+02, 2.56166667e+02, 2.42666667e+02, 2.65333333e+02,\n",
       "        2.11666667e+02, 2.26666667e+02, 1.81000000e+02, 3.19869117e+06,\n",
       "        6.95911333e+05, 3.34915717e+06, 3.43778050e+06, 3.32316850e+06,\n",
       "        3.35884883e+06, 3.22450217e+06, 6.71666667e+00, 5.16666667e+00,\n",
       "        8.43333333e+00, 3.13700133e+06, 4.23333333e+01, 4.28333333e+01,\n",
       "        4.05000000e+01, 4.41666667e+01, 3.53333333e+01, 3.78333333e+01,\n",
       "        3.03333333e+01, 2.68000000e+02],\n",
       "       [3.05000000e+02, 3.12333333e+02, 3.46166667e+02, 3.29833333e+02,\n",
       "        2.80666667e+02, 3.08833333e+02, 2.71833333e+02, 3.19897850e+06,\n",
       "        6.96195833e+05, 3.34945200e+06, 3.43807767e+06, 3.32340933e+06,\n",
       "        3.35910983e+06, 3.22471400e+06, 7.20000000e+00, 5.28333333e+00,\n",
       "        9.08333333e+00, 3.13884333e+06, 5.05000000e+01, 5.11666667e+01,\n",
       "        5.55000000e+01, 5.36666667e+01, 4.61666667e+01, 4.96666667e+01,\n",
       "        4.11666667e+01, 3.41833333e+02]])"
      ]
     },
     "execution_count": 23,
     "metadata": {},
     "output_type": "execute_result"
    }
   ],
   "source": [
    "context['readings'][0:5]"
   ]
  },
  {
   "cell_type": "markdown",
   "metadata": {},
   "source": [
    "## sklearn.preprocessing.MinMaxScaler\n",
    "\n",
    "* Input: (imputed, array)\n",
    "* Output: readings (scaled, array)\n",
    "* Effect: readings have been scaled to [-1, 1] range"
   ]
  },
  {
   "cell_type": "code",
   "execution_count": 24,
   "metadata": {},
   "outputs": [],
   "source": [
    "step = 5\n",
    "context = pipeline.fit(**context, output_=step, start_=step)"
   ]
  },
  {
   "cell_type": "code",
   "execution_count": 25,
   "metadata": {},
   "outputs": [
    {
     "data": {
      "text/plain": [
       "dict_keys(['readings', 'turbines', 'turbine_id', 'timestamp', 'X', 'y'])"
      ]
     },
     "execution_count": 25,
     "metadata": {},
     "output_type": "execute_result"
    }
   ],
   "source": [
    "context.keys()"
   ]
  },
  {
   "cell_type": "code",
   "execution_count": 26,
   "metadata": {},
   "outputs": [
    {
     "data": {
      "text/plain": [
       "array([[-0.26126126, -0.23706897, -0.20870076, -0.14106583, -0.32328767,\n",
       "        -0.25969448, -0.42198789, -1.        , -1.        , -1.        ,\n",
       "        -1.        , -1.        , -1.        , -1.        , -0.11007463,\n",
       "        -0.16824645, -0.10424155, -0.37397741, -0.25233645, -0.22716628,\n",
       "        -0.20140515, -0.13481829, -0.32239156, -0.25380117, -0.4182243 ,\n",
       "        -0.25697453],\n",
       "       [-0.53349001, -0.47805643, -0.49088771, -0.38557994, -0.51037182,\n",
       "        -0.44339992, -0.55438391, -0.99983031, -0.99982547, -0.99982499,\n",
       "        -0.99980741, -0.9998428 , -0.99983779, -0.99986887, -0.23507463,\n",
       "        -0.26777251, -0.25233645, -0.37363511, -0.52570093, -0.470726  ,\n",
       "        -0.4824356 , -0.37866354, -0.50762016, -0.44093567, -0.55373832,\n",
       "        -0.48085254],\n",
       "       [-0.41441441, -0.35971787, -0.3462669 , -0.29780564, -0.44735812,\n",
       "        -0.36036036, -0.48486624, -0.99967026, -0.99965608, -0.99965576,\n",
       "        -0.99961813, -0.99968416, -0.99965569, -0.99971512, -0.20335821,\n",
       "        -0.20853081, -0.2379583 , -0.37328583, -0.4088785 , -0.34894614,\n",
       "        -0.33723653, -0.29425557, -0.43962485, -0.35438596, -0.48364486,\n",
       "        -0.38104315],\n",
       "       [-0.40266353, -0.39615987, -0.4281795 , -0.37460815, -0.49902153,\n",
       "        -0.4649432 , -0.56766257, -0.99949857, -0.99948535, -0.99949373,\n",
       "        -0.999451  , -0.99954455, -0.99950765, -0.99959435, -0.24813433,\n",
       "        -0.26540284, -0.27246585, -0.37296782, -0.39719626, -0.38875878,\n",
       "        -0.42154567, -0.37162954, -0.49589683, -0.4619883 , -0.56542056,\n",
       "        -0.4427309 ],\n",
       "       [-0.28084606, -0.26410658, -0.18479326, -0.22296238, -0.3369863 ,\n",
       "        -0.27183705, -0.35481351, -0.99929598, -0.99929474, -0.99930071,\n",
       "        -0.99926107, -0.99938368, -0.99933831, -0.9994513 , -0.19402985,\n",
       "        -0.24881517, -0.21639109, -0.37259906, -0.28271028, -0.27166276,\n",
       "        -0.21077283, -0.23798359, -0.34349355, -0.29590643, -0.4135514 ,\n",
       "        -0.28920464]])"
      ]
     },
     "execution_count": 26,
     "metadata": {},
     "output_type": "execute_result"
    }
   ],
   "source": [
    "context['readings'][0:5]"
   ]
  },
  {
   "cell_type": "markdown",
   "metadata": {},
   "source": [
    "## pandas.DataFrame\n",
    "\n",
    "* Input: readings (scaled, array)\n",
    "* Output: readings (dataframe)\n",
    "* Effect: readings have been converted into a dataframe"
   ]
  },
  {
   "cell_type": "code",
   "execution_count": 27,
   "metadata": {},
   "outputs": [],
   "source": [
    "step = 6\n",
    "context = pipeline.fit(**context, output_=step, start_=step)"
   ]
  },
  {
   "cell_type": "code",
   "execution_count": 28,
   "metadata": {},
   "outputs": [
    {
     "data": {
      "text/plain": [
       "dict_keys(['readings', 'turbines', 'turbine_id', 'timestamp', 'X', 'y'])"
      ]
     },
     "execution_count": 28,
     "metadata": {},
     "output_type": "execute_result"
    }
   ],
   "source": [
    "context.keys()"
   ]
  },
  {
   "cell_type": "code",
   "execution_count": 29,
   "metadata": {},
   "outputs": [
    {
     "data": {
      "text/html": [
       "<div>\n",
       "<style scoped>\n",
       "    .dataframe tbody tr th:only-of-type {\n",
       "        vertical-align: middle;\n",
       "    }\n",
       "\n",
       "    .dataframe tbody tr th {\n",
       "        vertical-align: top;\n",
       "    }\n",
       "\n",
       "    .dataframe thead th {\n",
       "        text-align: right;\n",
       "    }\n",
       "</style>\n",
       "<table border=\"1\" class=\"dataframe\">\n",
       "  <thead>\n",
       "    <tr style=\"text-align: right;\">\n",
       "      <th></th>\n",
       "      <th>0</th>\n",
       "      <th>1</th>\n",
       "      <th>2</th>\n",
       "      <th>3</th>\n",
       "      <th>4</th>\n",
       "      <th>5</th>\n",
       "      <th>6</th>\n",
       "      <th>7</th>\n",
       "      <th>8</th>\n",
       "      <th>9</th>\n",
       "      <th>...</th>\n",
       "      <th>16</th>\n",
       "      <th>17</th>\n",
       "      <th>18</th>\n",
       "      <th>19</th>\n",
       "      <th>20</th>\n",
       "      <th>21</th>\n",
       "      <th>22</th>\n",
       "      <th>23</th>\n",
       "      <th>24</th>\n",
       "      <th>25</th>\n",
       "    </tr>\n",
       "  </thead>\n",
       "  <tbody>\n",
       "    <tr>\n",
       "      <th>0</th>\n",
       "      <td>-0.261261</td>\n",
       "      <td>-0.237069</td>\n",
       "      <td>-0.208701</td>\n",
       "      <td>-0.141066</td>\n",
       "      <td>-0.323288</td>\n",
       "      <td>-0.259694</td>\n",
       "      <td>-0.421988</td>\n",
       "      <td>-1.000000</td>\n",
       "      <td>-1.000000</td>\n",
       "      <td>-1.000000</td>\n",
       "      <td>...</td>\n",
       "      <td>-0.104242</td>\n",
       "      <td>-0.373977</td>\n",
       "      <td>-0.252336</td>\n",
       "      <td>-0.227166</td>\n",
       "      <td>-0.201405</td>\n",
       "      <td>-0.134818</td>\n",
       "      <td>-0.322392</td>\n",
       "      <td>-0.253801</td>\n",
       "      <td>-0.418224</td>\n",
       "      <td>-0.256975</td>\n",
       "    </tr>\n",
       "    <tr>\n",
       "      <th>1</th>\n",
       "      <td>-0.533490</td>\n",
       "      <td>-0.478056</td>\n",
       "      <td>-0.490888</td>\n",
       "      <td>-0.385580</td>\n",
       "      <td>-0.510372</td>\n",
       "      <td>-0.443400</td>\n",
       "      <td>-0.554384</td>\n",
       "      <td>-0.999830</td>\n",
       "      <td>-0.999825</td>\n",
       "      <td>-0.999825</td>\n",
       "      <td>...</td>\n",
       "      <td>-0.252336</td>\n",
       "      <td>-0.373635</td>\n",
       "      <td>-0.525701</td>\n",
       "      <td>-0.470726</td>\n",
       "      <td>-0.482436</td>\n",
       "      <td>-0.378664</td>\n",
       "      <td>-0.507620</td>\n",
       "      <td>-0.440936</td>\n",
       "      <td>-0.553738</td>\n",
       "      <td>-0.480853</td>\n",
       "    </tr>\n",
       "    <tr>\n",
       "      <th>2</th>\n",
       "      <td>-0.414414</td>\n",
       "      <td>-0.359718</td>\n",
       "      <td>-0.346267</td>\n",
       "      <td>-0.297806</td>\n",
       "      <td>-0.447358</td>\n",
       "      <td>-0.360360</td>\n",
       "      <td>-0.484866</td>\n",
       "      <td>-0.999670</td>\n",
       "      <td>-0.999656</td>\n",
       "      <td>-0.999656</td>\n",
       "      <td>...</td>\n",
       "      <td>-0.237958</td>\n",
       "      <td>-0.373286</td>\n",
       "      <td>-0.408879</td>\n",
       "      <td>-0.348946</td>\n",
       "      <td>-0.337237</td>\n",
       "      <td>-0.294256</td>\n",
       "      <td>-0.439625</td>\n",
       "      <td>-0.354386</td>\n",
       "      <td>-0.483645</td>\n",
       "      <td>-0.381043</td>\n",
       "    </tr>\n",
       "    <tr>\n",
       "      <th>3</th>\n",
       "      <td>-0.402664</td>\n",
       "      <td>-0.396160</td>\n",
       "      <td>-0.428180</td>\n",
       "      <td>-0.374608</td>\n",
       "      <td>-0.499022</td>\n",
       "      <td>-0.464943</td>\n",
       "      <td>-0.567663</td>\n",
       "      <td>-0.999499</td>\n",
       "      <td>-0.999485</td>\n",
       "      <td>-0.999494</td>\n",
       "      <td>...</td>\n",
       "      <td>-0.272466</td>\n",
       "      <td>-0.372968</td>\n",
       "      <td>-0.397196</td>\n",
       "      <td>-0.388759</td>\n",
       "      <td>-0.421546</td>\n",
       "      <td>-0.371630</td>\n",
       "      <td>-0.495897</td>\n",
       "      <td>-0.461988</td>\n",
       "      <td>-0.565421</td>\n",
       "      <td>-0.442731</td>\n",
       "    </tr>\n",
       "    <tr>\n",
       "      <th>4</th>\n",
       "      <td>-0.280846</td>\n",
       "      <td>-0.264107</td>\n",
       "      <td>-0.184793</td>\n",
       "      <td>-0.222962</td>\n",
       "      <td>-0.336986</td>\n",
       "      <td>-0.271837</td>\n",
       "      <td>-0.354814</td>\n",
       "      <td>-0.999296</td>\n",
       "      <td>-0.999295</td>\n",
       "      <td>-0.999301</td>\n",
       "      <td>...</td>\n",
       "      <td>-0.216391</td>\n",
       "      <td>-0.372599</td>\n",
       "      <td>-0.282710</td>\n",
       "      <td>-0.271663</td>\n",
       "      <td>-0.210773</td>\n",
       "      <td>-0.237984</td>\n",
       "      <td>-0.343494</td>\n",
       "      <td>-0.295906</td>\n",
       "      <td>-0.413551</td>\n",
       "      <td>-0.289205</td>\n",
       "    </tr>\n",
       "  </tbody>\n",
       "</table>\n",
       "<p>5 rows × 26 columns</p>\n",
       "</div>"
      ],
      "text/plain": [
       "         0         1         2         3         4         5         6   \\\n",
       "0 -0.261261 -0.237069 -0.208701 -0.141066 -0.323288 -0.259694 -0.421988   \n",
       "1 -0.533490 -0.478056 -0.490888 -0.385580 -0.510372 -0.443400 -0.554384   \n",
       "2 -0.414414 -0.359718 -0.346267 -0.297806 -0.447358 -0.360360 -0.484866   \n",
       "3 -0.402664 -0.396160 -0.428180 -0.374608 -0.499022 -0.464943 -0.567663   \n",
       "4 -0.280846 -0.264107 -0.184793 -0.222962 -0.336986 -0.271837 -0.354814   \n",
       "\n",
       "         7         8         9   ...        16        17        18        19  \\\n",
       "0 -1.000000 -1.000000 -1.000000  ... -0.104242 -0.373977 -0.252336 -0.227166   \n",
       "1 -0.999830 -0.999825 -0.999825  ... -0.252336 -0.373635 -0.525701 -0.470726   \n",
       "2 -0.999670 -0.999656 -0.999656  ... -0.237958 -0.373286 -0.408879 -0.348946   \n",
       "3 -0.999499 -0.999485 -0.999494  ... -0.272466 -0.372968 -0.397196 -0.388759   \n",
       "4 -0.999296 -0.999295 -0.999301  ... -0.216391 -0.372599 -0.282710 -0.271663   \n",
       "\n",
       "         20        21        22        23        24        25  \n",
       "0 -0.201405 -0.134818 -0.322392 -0.253801 -0.418224 -0.256975  \n",
       "1 -0.482436 -0.378664 -0.507620 -0.440936 -0.553738 -0.480853  \n",
       "2 -0.337237 -0.294256 -0.439625 -0.354386 -0.483645 -0.381043  \n",
       "3 -0.421546 -0.371630 -0.495897 -0.461988 -0.565421 -0.442731  \n",
       "4 -0.210773 -0.237984 -0.343494 -0.295906 -0.413551 -0.289205  \n",
       "\n",
       "[5 rows x 26 columns]"
      ]
     },
     "execution_count": 29,
     "metadata": {},
     "output_type": "execute_result"
    }
   ],
   "source": [
    "context['readings'].head()"
   ]
  },
  {
   "cell_type": "markdown",
   "metadata": {},
   "source": [
    "## pandas.DataFrame.set\n",
    "\n",
    "* Input: readings (dataframe)\n",
    "* Output: readings (dataframe with turbine_id)\n",
    "* Effect: turbine_id has been set as a readings column"
   ]
  },
  {
   "cell_type": "code",
   "execution_count": 30,
   "metadata": {},
   "outputs": [],
   "source": [
    "step = 7\n",
    "context = pipeline.fit(**context, output_=step, start_=step)"
   ]
  },
  {
   "cell_type": "code",
   "execution_count": 31,
   "metadata": {},
   "outputs": [
    {
     "data": {
      "text/plain": [
       "dict_keys(['readings', 'turbines', 'turbine_id', 'timestamp', 'X', 'y'])"
      ]
     },
     "execution_count": 31,
     "metadata": {},
     "output_type": "execute_result"
    }
   ],
   "source": [
    "context.keys()"
   ]
  },
  {
   "cell_type": "code",
   "execution_count": 32,
   "metadata": {},
   "outputs": [
    {
     "data": {
      "text/html": [
       "<div>\n",
       "<style scoped>\n",
       "    .dataframe tbody tr th:only-of-type {\n",
       "        vertical-align: middle;\n",
       "    }\n",
       "\n",
       "    .dataframe tbody tr th {\n",
       "        vertical-align: top;\n",
       "    }\n",
       "\n",
       "    .dataframe thead th {\n",
       "        text-align: right;\n",
       "    }\n",
       "</style>\n",
       "<table border=\"1\" class=\"dataframe\">\n",
       "  <thead>\n",
       "    <tr style=\"text-align: right;\">\n",
       "      <th></th>\n",
       "      <th>0</th>\n",
       "      <th>1</th>\n",
       "      <th>2</th>\n",
       "      <th>3</th>\n",
       "      <th>4</th>\n",
       "      <th>5</th>\n",
       "      <th>6</th>\n",
       "      <th>7</th>\n",
       "      <th>8</th>\n",
       "      <th>9</th>\n",
       "      <th>...</th>\n",
       "      <th>17</th>\n",
       "      <th>18</th>\n",
       "      <th>19</th>\n",
       "      <th>20</th>\n",
       "      <th>21</th>\n",
       "      <th>22</th>\n",
       "      <th>23</th>\n",
       "      <th>24</th>\n",
       "      <th>25</th>\n",
       "      <th>turbine_id</th>\n",
       "    </tr>\n",
       "  </thead>\n",
       "  <tbody>\n",
       "    <tr>\n",
       "      <th>0</th>\n",
       "      <td>-0.261261</td>\n",
       "      <td>-0.237069</td>\n",
       "      <td>-0.208701</td>\n",
       "      <td>-0.141066</td>\n",
       "      <td>-0.323288</td>\n",
       "      <td>-0.259694</td>\n",
       "      <td>-0.421988</td>\n",
       "      <td>-1.000000</td>\n",
       "      <td>-1.000000</td>\n",
       "      <td>-1.000000</td>\n",
       "      <td>...</td>\n",
       "      <td>-0.373977</td>\n",
       "      <td>-0.252336</td>\n",
       "      <td>-0.227166</td>\n",
       "      <td>-0.201405</td>\n",
       "      <td>-0.134818</td>\n",
       "      <td>-0.322392</td>\n",
       "      <td>-0.253801</td>\n",
       "      <td>-0.418224</td>\n",
       "      <td>-0.256975</td>\n",
       "      <td>T001</td>\n",
       "    </tr>\n",
       "    <tr>\n",
       "      <th>1</th>\n",
       "      <td>-0.533490</td>\n",
       "      <td>-0.478056</td>\n",
       "      <td>-0.490888</td>\n",
       "      <td>-0.385580</td>\n",
       "      <td>-0.510372</td>\n",
       "      <td>-0.443400</td>\n",
       "      <td>-0.554384</td>\n",
       "      <td>-0.999830</td>\n",
       "      <td>-0.999825</td>\n",
       "      <td>-0.999825</td>\n",
       "      <td>...</td>\n",
       "      <td>-0.373635</td>\n",
       "      <td>-0.525701</td>\n",
       "      <td>-0.470726</td>\n",
       "      <td>-0.482436</td>\n",
       "      <td>-0.378664</td>\n",
       "      <td>-0.507620</td>\n",
       "      <td>-0.440936</td>\n",
       "      <td>-0.553738</td>\n",
       "      <td>-0.480853</td>\n",
       "      <td>T001</td>\n",
       "    </tr>\n",
       "    <tr>\n",
       "      <th>2</th>\n",
       "      <td>-0.414414</td>\n",
       "      <td>-0.359718</td>\n",
       "      <td>-0.346267</td>\n",
       "      <td>-0.297806</td>\n",
       "      <td>-0.447358</td>\n",
       "      <td>-0.360360</td>\n",
       "      <td>-0.484866</td>\n",
       "      <td>-0.999670</td>\n",
       "      <td>-0.999656</td>\n",
       "      <td>-0.999656</td>\n",
       "      <td>...</td>\n",
       "      <td>-0.373286</td>\n",
       "      <td>-0.408879</td>\n",
       "      <td>-0.348946</td>\n",
       "      <td>-0.337237</td>\n",
       "      <td>-0.294256</td>\n",
       "      <td>-0.439625</td>\n",
       "      <td>-0.354386</td>\n",
       "      <td>-0.483645</td>\n",
       "      <td>-0.381043</td>\n",
       "      <td>T001</td>\n",
       "    </tr>\n",
       "    <tr>\n",
       "      <th>3</th>\n",
       "      <td>-0.402664</td>\n",
       "      <td>-0.396160</td>\n",
       "      <td>-0.428180</td>\n",
       "      <td>-0.374608</td>\n",
       "      <td>-0.499022</td>\n",
       "      <td>-0.464943</td>\n",
       "      <td>-0.567663</td>\n",
       "      <td>-0.999499</td>\n",
       "      <td>-0.999485</td>\n",
       "      <td>-0.999494</td>\n",
       "      <td>...</td>\n",
       "      <td>-0.372968</td>\n",
       "      <td>-0.397196</td>\n",
       "      <td>-0.388759</td>\n",
       "      <td>-0.421546</td>\n",
       "      <td>-0.371630</td>\n",
       "      <td>-0.495897</td>\n",
       "      <td>-0.461988</td>\n",
       "      <td>-0.565421</td>\n",
       "      <td>-0.442731</td>\n",
       "      <td>T001</td>\n",
       "    </tr>\n",
       "    <tr>\n",
       "      <th>4</th>\n",
       "      <td>-0.280846</td>\n",
       "      <td>-0.264107</td>\n",
       "      <td>-0.184793</td>\n",
       "      <td>-0.222962</td>\n",
       "      <td>-0.336986</td>\n",
       "      <td>-0.271837</td>\n",
       "      <td>-0.354814</td>\n",
       "      <td>-0.999296</td>\n",
       "      <td>-0.999295</td>\n",
       "      <td>-0.999301</td>\n",
       "      <td>...</td>\n",
       "      <td>-0.372599</td>\n",
       "      <td>-0.282710</td>\n",
       "      <td>-0.271663</td>\n",
       "      <td>-0.210773</td>\n",
       "      <td>-0.237984</td>\n",
       "      <td>-0.343494</td>\n",
       "      <td>-0.295906</td>\n",
       "      <td>-0.413551</td>\n",
       "      <td>-0.289205</td>\n",
       "      <td>T001</td>\n",
       "    </tr>\n",
       "  </tbody>\n",
       "</table>\n",
       "<p>5 rows × 27 columns</p>\n",
       "</div>"
      ],
      "text/plain": [
       "          0         1         2         3         4         5         6  \\\n",
       "0 -0.261261 -0.237069 -0.208701 -0.141066 -0.323288 -0.259694 -0.421988   \n",
       "1 -0.533490 -0.478056 -0.490888 -0.385580 -0.510372 -0.443400 -0.554384   \n",
       "2 -0.414414 -0.359718 -0.346267 -0.297806 -0.447358 -0.360360 -0.484866   \n",
       "3 -0.402664 -0.396160 -0.428180 -0.374608 -0.499022 -0.464943 -0.567663   \n",
       "4 -0.280846 -0.264107 -0.184793 -0.222962 -0.336986 -0.271837 -0.354814   \n",
       "\n",
       "          7         8         9  ...        17        18        19        20  \\\n",
       "0 -1.000000 -1.000000 -1.000000  ... -0.373977 -0.252336 -0.227166 -0.201405   \n",
       "1 -0.999830 -0.999825 -0.999825  ... -0.373635 -0.525701 -0.470726 -0.482436   \n",
       "2 -0.999670 -0.999656 -0.999656  ... -0.373286 -0.408879 -0.348946 -0.337237   \n",
       "3 -0.999499 -0.999485 -0.999494  ... -0.372968 -0.397196 -0.388759 -0.421546   \n",
       "4 -0.999296 -0.999295 -0.999301  ... -0.372599 -0.282710 -0.271663 -0.210773   \n",
       "\n",
       "         21        22        23        24        25  turbine_id  \n",
       "0 -0.134818 -0.322392 -0.253801 -0.418224 -0.256975        T001  \n",
       "1 -0.378664 -0.507620 -0.440936 -0.553738 -0.480853        T001  \n",
       "2 -0.294256 -0.439625 -0.354386 -0.483645 -0.381043        T001  \n",
       "3 -0.371630 -0.495897 -0.461988 -0.565421 -0.442731        T001  \n",
       "4 -0.237984 -0.343494 -0.295906 -0.413551 -0.289205        T001  \n",
       "\n",
       "[5 rows x 27 columns]"
      ]
     },
     "execution_count": 32,
     "metadata": {},
     "output_type": "execute_result"
    }
   ],
   "source": [
    "context['readings'].head()"
   ]
  },
  {
   "cell_type": "markdown",
   "metadata": {},
   "source": [
    "## pandas.DataFrame.set\n",
    "\n",
    "* Input: readings (dataframe with turbine_id)\n",
    "* Output: readings (dataframe with turbine_id and timestamp)\n",
    "* Effect: timestamp has been set as a readings column"
   ]
  },
  {
   "cell_type": "code",
   "execution_count": 33,
   "metadata": {},
   "outputs": [],
   "source": [
    "step = 8\n",
    "context = pipeline.fit(**context, output_=step, start_=step)"
   ]
  },
  {
   "cell_type": "code",
   "execution_count": 34,
   "metadata": {},
   "outputs": [
    {
     "data": {
      "text/plain": [
       "dict_keys(['readings', 'turbines', 'turbine_id', 'timestamp', 'X', 'y'])"
      ]
     },
     "execution_count": 34,
     "metadata": {},
     "output_type": "execute_result"
    }
   ],
   "source": [
    "context.keys()"
   ]
  },
  {
   "cell_type": "code",
   "execution_count": 35,
   "metadata": {},
   "outputs": [
    {
     "data": {
      "text/html": [
       "<div>\n",
       "<style scoped>\n",
       "    .dataframe tbody tr th:only-of-type {\n",
       "        vertical-align: middle;\n",
       "    }\n",
       "\n",
       "    .dataframe tbody tr th {\n",
       "        vertical-align: top;\n",
       "    }\n",
       "\n",
       "    .dataframe thead th {\n",
       "        text-align: right;\n",
       "    }\n",
       "</style>\n",
       "<table border=\"1\" class=\"dataframe\">\n",
       "  <thead>\n",
       "    <tr style=\"text-align: right;\">\n",
       "      <th></th>\n",
       "      <th>0</th>\n",
       "      <th>1</th>\n",
       "      <th>2</th>\n",
       "      <th>3</th>\n",
       "      <th>4</th>\n",
       "      <th>5</th>\n",
       "      <th>6</th>\n",
       "      <th>7</th>\n",
       "      <th>8</th>\n",
       "      <th>9</th>\n",
       "      <th>...</th>\n",
       "      <th>18</th>\n",
       "      <th>19</th>\n",
       "      <th>20</th>\n",
       "      <th>21</th>\n",
       "      <th>22</th>\n",
       "      <th>23</th>\n",
       "      <th>24</th>\n",
       "      <th>25</th>\n",
       "      <th>turbine_id</th>\n",
       "      <th>timestamp</th>\n",
       "    </tr>\n",
       "  </thead>\n",
       "  <tbody>\n",
       "    <tr>\n",
       "      <th>0</th>\n",
       "      <td>-0.261261</td>\n",
       "      <td>-0.237069</td>\n",
       "      <td>-0.208701</td>\n",
       "      <td>-0.141066</td>\n",
       "      <td>-0.323288</td>\n",
       "      <td>-0.259694</td>\n",
       "      <td>-0.421988</td>\n",
       "      <td>-1.000000</td>\n",
       "      <td>-1.000000</td>\n",
       "      <td>-1.000000</td>\n",
       "      <td>...</td>\n",
       "      <td>-0.252336</td>\n",
       "      <td>-0.227166</td>\n",
       "      <td>-0.201405</td>\n",
       "      <td>-0.134818</td>\n",
       "      <td>-0.322392</td>\n",
       "      <td>-0.253801</td>\n",
       "      <td>-0.418224</td>\n",
       "      <td>-0.256975</td>\n",
       "      <td>T001</td>\n",
       "      <td>2013-01-10 00:00:00</td>\n",
       "    </tr>\n",
       "    <tr>\n",
       "      <th>1</th>\n",
       "      <td>-0.533490</td>\n",
       "      <td>-0.478056</td>\n",
       "      <td>-0.490888</td>\n",
       "      <td>-0.385580</td>\n",
       "      <td>-0.510372</td>\n",
       "      <td>-0.443400</td>\n",
       "      <td>-0.554384</td>\n",
       "      <td>-0.999830</td>\n",
       "      <td>-0.999825</td>\n",
       "      <td>-0.999825</td>\n",
       "      <td>...</td>\n",
       "      <td>-0.525701</td>\n",
       "      <td>-0.470726</td>\n",
       "      <td>-0.482436</td>\n",
       "      <td>-0.378664</td>\n",
       "      <td>-0.507620</td>\n",
       "      <td>-0.440936</td>\n",
       "      <td>-0.553738</td>\n",
       "      <td>-0.480853</td>\n",
       "      <td>T001</td>\n",
       "      <td>2013-01-10 01:00:00</td>\n",
       "    </tr>\n",
       "    <tr>\n",
       "      <th>2</th>\n",
       "      <td>-0.414414</td>\n",
       "      <td>-0.359718</td>\n",
       "      <td>-0.346267</td>\n",
       "      <td>-0.297806</td>\n",
       "      <td>-0.447358</td>\n",
       "      <td>-0.360360</td>\n",
       "      <td>-0.484866</td>\n",
       "      <td>-0.999670</td>\n",
       "      <td>-0.999656</td>\n",
       "      <td>-0.999656</td>\n",
       "      <td>...</td>\n",
       "      <td>-0.408879</td>\n",
       "      <td>-0.348946</td>\n",
       "      <td>-0.337237</td>\n",
       "      <td>-0.294256</td>\n",
       "      <td>-0.439625</td>\n",
       "      <td>-0.354386</td>\n",
       "      <td>-0.483645</td>\n",
       "      <td>-0.381043</td>\n",
       "      <td>T001</td>\n",
       "      <td>2013-01-10 02:00:00</td>\n",
       "    </tr>\n",
       "    <tr>\n",
       "      <th>3</th>\n",
       "      <td>-0.402664</td>\n",
       "      <td>-0.396160</td>\n",
       "      <td>-0.428180</td>\n",
       "      <td>-0.374608</td>\n",
       "      <td>-0.499022</td>\n",
       "      <td>-0.464943</td>\n",
       "      <td>-0.567663</td>\n",
       "      <td>-0.999499</td>\n",
       "      <td>-0.999485</td>\n",
       "      <td>-0.999494</td>\n",
       "      <td>...</td>\n",
       "      <td>-0.397196</td>\n",
       "      <td>-0.388759</td>\n",
       "      <td>-0.421546</td>\n",
       "      <td>-0.371630</td>\n",
       "      <td>-0.495897</td>\n",
       "      <td>-0.461988</td>\n",
       "      <td>-0.565421</td>\n",
       "      <td>-0.442731</td>\n",
       "      <td>T001</td>\n",
       "      <td>2013-01-10 03:00:00</td>\n",
       "    </tr>\n",
       "    <tr>\n",
       "      <th>4</th>\n",
       "      <td>-0.280846</td>\n",
       "      <td>-0.264107</td>\n",
       "      <td>-0.184793</td>\n",
       "      <td>-0.222962</td>\n",
       "      <td>-0.336986</td>\n",
       "      <td>-0.271837</td>\n",
       "      <td>-0.354814</td>\n",
       "      <td>-0.999296</td>\n",
       "      <td>-0.999295</td>\n",
       "      <td>-0.999301</td>\n",
       "      <td>...</td>\n",
       "      <td>-0.282710</td>\n",
       "      <td>-0.271663</td>\n",
       "      <td>-0.210773</td>\n",
       "      <td>-0.237984</td>\n",
       "      <td>-0.343494</td>\n",
       "      <td>-0.295906</td>\n",
       "      <td>-0.413551</td>\n",
       "      <td>-0.289205</td>\n",
       "      <td>T001</td>\n",
       "      <td>2013-01-10 04:00:00</td>\n",
       "    </tr>\n",
       "  </tbody>\n",
       "</table>\n",
       "<p>5 rows × 28 columns</p>\n",
       "</div>"
      ],
      "text/plain": [
       "          0         1         2         3         4         5         6  \\\n",
       "0 -0.261261 -0.237069 -0.208701 -0.141066 -0.323288 -0.259694 -0.421988   \n",
       "1 -0.533490 -0.478056 -0.490888 -0.385580 -0.510372 -0.443400 -0.554384   \n",
       "2 -0.414414 -0.359718 -0.346267 -0.297806 -0.447358 -0.360360 -0.484866   \n",
       "3 -0.402664 -0.396160 -0.428180 -0.374608 -0.499022 -0.464943 -0.567663   \n",
       "4 -0.280846 -0.264107 -0.184793 -0.222962 -0.336986 -0.271837 -0.354814   \n",
       "\n",
       "          7         8         9  ...        18        19        20        21  \\\n",
       "0 -1.000000 -1.000000 -1.000000  ... -0.252336 -0.227166 -0.201405 -0.134818   \n",
       "1 -0.999830 -0.999825 -0.999825  ... -0.525701 -0.470726 -0.482436 -0.378664   \n",
       "2 -0.999670 -0.999656 -0.999656  ... -0.408879 -0.348946 -0.337237 -0.294256   \n",
       "3 -0.999499 -0.999485 -0.999494  ... -0.397196 -0.388759 -0.421546 -0.371630   \n",
       "4 -0.999296 -0.999295 -0.999301  ... -0.282710 -0.271663 -0.210773 -0.237984   \n",
       "\n",
       "         22        23        24        25  turbine_id           timestamp  \n",
       "0 -0.322392 -0.253801 -0.418224 -0.256975        T001 2013-01-10 00:00:00  \n",
       "1 -0.507620 -0.440936 -0.553738 -0.480853        T001 2013-01-10 01:00:00  \n",
       "2 -0.439625 -0.354386 -0.483645 -0.381043        T001 2013-01-10 02:00:00  \n",
       "3 -0.495897 -0.461988 -0.565421 -0.442731        T001 2013-01-10 03:00:00  \n",
       "4 -0.343494 -0.295906 -0.413551 -0.289205        T001 2013-01-10 04:00:00  \n",
       "\n",
       "[5 rows x 28 columns]"
      ]
     },
     "execution_count": 35,
     "metadata": {},
     "output_type": "execute_result"
    }
   ],
   "source": [
    "context['readings'].head()"
   ]
  },
  {
   "cell_type": "markdown",
   "metadata": {},
   "source": [
    "## mlprimitives.custom.timeseries_preprocessing.cutoff_window_sequences\n",
    "\n",
    "* Input: X, readings (dataframe with turbine_id and timestamp)\n",
    "* Output: X\n",
    "* Effect: X has been converted to a 3d numpy array that contains 1 matrix of shape\n",
    "  (window_size x num_signals) for each one of the target times."
   ]
  },
  {
   "cell_type": "code",
   "execution_count": 36,
   "metadata": {},
   "outputs": [
    {
     "data": {
      "text/plain": [
       "{'window_size': 24, 'cutoff_time': 'cutoff_time', 'time_index': 'timestamp'}"
      ]
     },
     "execution_count": 36,
     "metadata": {},
     "output_type": "execute_result"
    }
   ],
   "source": [
    "pipeline._pipeline.get_hyperparameters()[\n",
    "    'mlprimitives.custom.timeseries_preprocessing.cutoff_window_sequences#1']"
   ]
  },
  {
   "cell_type": "code",
   "execution_count": 37,
   "metadata": {},
   "outputs": [],
   "source": [
    "step = 9\n",
    "context = pipeline.fit(**context, output_=step, start_=step)"
   ]
  },
  {
   "cell_type": "code",
   "execution_count": 38,
   "metadata": {},
   "outputs": [
    {
     "data": {
      "text/plain": [
       "dict_keys(['readings', 'turbines', 'turbine_id', 'timestamp', 'X', 'y'])"
      ]
     },
     "execution_count": 38,
     "metadata": {},
     "output_type": "execute_result"
    }
   ],
   "source": [
    "context.keys()"
   ]
  },
  {
   "cell_type": "code",
   "execution_count": 39,
   "metadata": {},
   "outputs": [
    {
     "data": {
      "text/plain": [
       "(8521, 28)"
      ]
     },
     "execution_count": 39,
     "metadata": {},
     "output_type": "execute_result"
    }
   ],
   "source": [
    "context['readings'].shape"
   ]
  },
  {
   "cell_type": "code",
   "execution_count": 40,
   "metadata": {},
   "outputs": [
    {
     "data": {
      "text/plain": [
       "(353,)"
      ]
     },
     "execution_count": 40,
     "metadata": {},
     "output_type": "execute_result"
    }
   ],
   "source": [
    "context['y'].shape"
   ]
  },
  {
   "cell_type": "code",
   "execution_count": 41,
   "metadata": {},
   "outputs": [
    {
     "data": {
      "text/plain": [
       "(353, 24, 26)"
      ]
     },
     "execution_count": 41,
     "metadata": {},
     "output_type": "execute_result"
    }
   ],
   "source": [
    "context['X'].shape"
   ]
  },
  {
   "cell_type": "code",
   "execution_count": 42,
   "metadata": {
    "scrolled": true
   },
   "outputs": [
    {
     "data": {
      "text/plain": [
       "array([[-0.58793576, -0.60305643, -0.63981971, -0.61481191, -0.69823875,\n",
       "        -0.65021543, -0.68912322, -0.99436914, -0.99439755, -0.99454249,\n",
       "        -0.99446788, -0.99476185, -0.99490997, -0.99529511, -0.34701493,\n",
       "        -0.33886256, -0.33860532, -0.36301186, -0.57943925, -0.59250585,\n",
       "        -0.6323185 , -0.60609613, -0.69284877, -0.64444444, -0.68691589,\n",
       "        -0.63853752],\n",
       "       [-0.56600078, -0.5846395 , -0.63002156, -0.61559561, -0.70880626,\n",
       "        -0.66392479, -0.69732474, -0.9942427 , -0.99427986, -0.9944408 ,\n",
       "        -0.99436498, -0.99468147, -0.99482011, -0.99521249, -0.33955224,\n",
       "        -0.31516588, -0.38892883, -0.36280656, -0.55841121, -0.57611241,\n",
       "        -0.62295082, -0.61078546, -0.70222743, -0.65847953, -0.69392523,\n",
       "        -0.63645815],\n",
       "       [-0.64081473, -0.64184953, -0.67038997, -0.63597179, -0.71350294,\n",
       "        -0.65844105, -0.66764304, -0.99412236, -0.99416864, -0.99434228,\n",
       "        -0.99426059, -0.99459663, -0.99472365, -0.99511795, -0.34328358,\n",
       "        -0.30094787, -0.36304817, -0.36259859, -0.63317757, -0.6323185 ,\n",
       "        -0.66042155, -0.62954279, -0.70926143, -0.65380117, -0.66588785,\n",
       "        -0.66002426],\n",
       "       [-0.73678026, -0.72139498, -0.72800314, -0.69239812, -0.71350294,\n",
       "        -0.68233451, -0.69732474, -0.99403811, -0.99408512, -0.9942623 ,\n",
       "        -0.99417111, -0.99451525, -0.99463206, -0.9950315 , -0.40671642,\n",
       "        -0.36018957, -0.44644141, -0.36242395, -0.72897196, -0.71194379,\n",
       "        -0.71896956, -0.68347011, -0.70926143, -0.6748538 , -0.69392523,\n",
       "        -0.71027552],\n",
       "       [-0.75401488, -0.74333856, -0.75112679, -0.71590909, -0.76555773,\n",
       "        -0.73599687, -0.75278266, -0.99395808, -0.99400684, -0.99419094,\n",
       "        -0.99409367, -0.99444556, -0.99455517, -0.99495418, -0.43656716,\n",
       "        -0.3957346 , -0.465133  , -0.36226933, -0.7453271 , -0.735363  ,\n",
       "        -0.74004684, -0.70926143, -0.76084408, -0.73099415, -0.75      ,\n",
       "        -0.7463178 ],\n",
       "       [-0.79866823, -0.76684953, -0.7558299 , -0.72688088, -0.76125245,\n",
       "        -0.75714845, -0.78363601, -0.99389098, -0.99393583, -0.99411958,\n",
       "        -0.99401538, -0.99437709, -0.99448423, -0.99489036, -0.43843284,\n",
       "        -0.37914692, -0.49388929, -0.36212623, -0.78971963, -0.75644028,\n",
       "        -0.7470726 , -0.72098476, -0.75615475, -0.7497076 , -0.78037383,\n",
       "        -0.76572518],\n",
       "       [-0.84919702, -0.83855799, -0.82245738, -0.78134796, -0.75225049,\n",
       "        -0.70661966, -0.65787932, -0.99384186, -0.99388279, -0.9940635 ,\n",
       "        -0.99395157, -0.9943113 , -0.99441264, -0.99481202, -0.51679104,\n",
       "        -0.50473934, -0.53414809, -0.36199904, -0.8411215 , -0.83138173,\n",
       "        -0.81264637, -0.77256741, -0.74677608, -0.70292398, -0.65654206,\n",
       "        -0.77438919],\n",
       "       [-0.69134352, -0.705721  , -0.73584166, -0.70297806, -0.75225049,\n",
       "        -0.72659616, -0.71724273, -0.99377229, -0.99381646, -0.99400032,\n",
       "        -0.99387925, -0.99423682, -0.99433003, -0.99471624, -0.43843284,\n",
       "        -0.40521327, -0.48094896, -0.36184615, -0.68457944, -0.69555035,\n",
       "        -0.72599532, -0.6975381 , -0.74677608, -0.71929825, -0.71261682,\n",
       "        -0.71893953],\n",
       "       [-0.84488837, -0.82915361, -0.83578287, -0.81896552, -0.86105675,\n",
       "        -0.8613396 , -0.86330795, -0.99369779, -0.99374656, -0.99393715,\n",
       "        -0.99381182, -0.99418494, -0.99427639, -0.99466379, -0.49253731,\n",
       "        -0.48104265, -0.51545651, -0.36172116, -0.8364486 , -0.81967213,\n",
       "        -0.82435597, -0.81008206, -0.85463072, -0.85497076, -0.86214953,\n",
       "        -0.84889967],\n",
       "       [-0.77908343, -0.78761755, -0.78757594, -0.78918495, -0.82348337,\n",
       "        -0.82491187, -0.85276313, -0.99365725, -0.99370625, -0.99389819,\n",
       "        -0.99377113, -0.99415254, -0.99424222, -0.99463329, -0.52798507,\n",
       "        -0.6042654 , -0.51545651, -0.36164779, -0.77336449, -0.77985948,\n",
       "        -0.78220141, -0.78429074, -0.86635404, -0.82222222, -0.85046729,\n",
       "        -0.81562987],\n",
       "       [-0.70544458, -0.64733542, -0.64844209, -0.61833856, -0.6481409 ,\n",
       "        -0.66392479, -0.71646163, -0.99356747, -0.99360832, -0.99380327,\n",
       "        -0.99367558, -0.99407272, -0.99415647, -0.99456035, -0.36567164,\n",
       "        -0.4549763 , -0.34291876, -0.36146698, -0.70560748, -0.63934426,\n",
       "        -0.63934426, -0.62016413, -0.64830012, -0.65847953, -0.72663551,\n",
       "        -0.66868827],\n",
       "       [-0.70387779, -0.67202194, -0.69508132, -0.72413793, -0.73228963,\n",
       "        -0.72816295, -0.72310096, -0.99348204, -0.99351955, -0.99372023,\n",
       "        -0.99359367, -0.99399256, -0.99407882, -0.99449203, -0.38432836,\n",
       "        -0.58530806, -0.33141625, -0.36130226, -0.69392523, -0.66042155,\n",
       "        -0.68384075, -0.71629543, -0.72801876, -0.72163743, -0.72196262,\n",
       "        -0.7113152 ],\n",
       "       [-0.8515472 , -0.81073668, -0.776602  , -0.76724138, -0.78277886,\n",
       "        -0.75832354, -0.74262839, -0.99341682, -0.99344607, -0.99364669,\n",
       "        -0.99352762, -0.99392743, -0.99401037, -0.99441763, -0.44029851,\n",
       "        -0.5521327 , -0.38461538, -0.36116102, -0.84345794, -0.80327869,\n",
       "        -0.76814988, -0.76084408, -0.77725674, -0.75204678, -0.73831776,\n",
       "        -0.7865188 ],\n",
       "       [-0.80258519, -0.83659875, -0.83499902, -0.79741379, -0.80821918,\n",
       "        -0.81629456, -0.79379028, -0.99336347, -0.99339091, -0.99358745,\n",
       "        -0.99346147, -0.9938642 , -0.99394733, -0.99434605, -0.44962687,\n",
       "        -0.6563981 , -0.34579439, -0.36103606, -0.79439252, -0.82669789,\n",
       "        -0.82669789, -0.78898007, -0.80304807, -0.81052632, -0.79205607,\n",
       "        -0.81632299],\n",
       "       [-0.83313749, -0.87539185, -0.90241035, -0.88440439, -0.86771037,\n",
       "        -0.87935762, -0.87580551, -0.99331764, -0.99335898, -0.99355602,\n",
       "        -0.99342259, -0.99382267, -0.99390959, -0.99430418, -0.54291045,\n",
       "        -0.72274882, -0.42918763, -0.36096002, -0.82943925, -0.87119438,\n",
       "        -0.89461358, -0.87573271, -0.86166471, -0.87134503, -0.87383178,\n",
       "        -0.88078323],\n",
       "       [-0.56678418, -0.60031348, -0.64295512, -0.78409091, -0.76164384,\n",
       "        -0.78535057, -0.82464362, -0.99321481, -0.99327557, -0.99349034,\n",
       "        -0.99337881, -0.9937915 , -0.99387347, -0.99427367, -0.32835821,\n",
       "        -0.47630332, -0.25808771, -0.36084678, -0.56074766, -0.59250585,\n",
       "        -0.6323185 , -0.77960141, -0.84759672, -0.78947368, -0.8364486 ,\n",
       "        -0.72621729],\n",
       "       [-0.77007442, -0.81230408, -0.83186361, -0.85540752, -0.85870841,\n",
       "        -0.86486486, -0.847686  , -0.99311634, -0.99319338, -0.99341516,\n",
       "        -0.99332651, -0.99374196, -0.99381551, -0.99422246, -0.46641791,\n",
       "        -0.65165877, -0.39324227, -0.36071245, -0.76168224, -0.80093677,\n",
       "        -0.82201405, -0.84759672, -0.85463072, -0.85730994, -0.84579439,\n",
       "        -0.83780974],\n",
       "       [-0.87622405, -0.92163009, -0.91377621, -0.89224138, -0.84540117,\n",
       "        -0.83431257, -0.82112869, -0.99306816, -0.99315821, -0.99338734,\n",
       "        -0.99329935, -0.99370611, -0.99377885, -0.9941789 , -0.55783582,\n",
       "        -0.65402844, -0.50970525, -0.36064058, -0.86682243, -0.91334895,\n",
       "        -0.90632319, -0.88745604, -0.84056272, -0.82923977, -0.81775701,\n",
       "        -0.87731762],\n",
       "       [-0.82843713, -0.83111285, -0.84166177, -0.8322884 , -0.84579256,\n",
       "        -0.8515472 , -0.86057411, -0.99302656, -0.99312426, -0.99335155,\n",
       "        -0.99325919, -0.99365991, -0.99373278, -0.99413129, -0.50559701,\n",
       "        -0.53791469, -0.52120776, -0.36055736, -0.82242991, -0.82201405,\n",
       "        -0.83138173, -0.82415006, -0.84056272, -0.84327485, -0.85747664,\n",
       "        -0.84508751],\n",
       "       [-0.74539757, -0.73824451, -0.76484421, -0.72100313, -0.73228963,\n",
       "        -0.70975323, -0.739504  , -0.99296569, -0.99306553, -0.99329699,\n",
       "        -0.9932005 , -0.99360224, -0.99367493, -0.99407862, -0.45149254,\n",
       "        -0.46208531, -0.48382459, -0.36044105, -0.73598131, -0.73067916,\n",
       "        -0.75644028, -0.71629543, -0.72801876, -0.70526316, -0.73831776,\n",
       "        -0.73696067],\n",
       "       [-0.40814728, -0.4596395 , -0.51087596, -0.46316614, -0.54598826,\n",
       "        -0.50607129, -0.57039641, -0.99283748, -0.99294147, -0.9931881 ,\n",
       "        -0.99308418, -0.99349681, -0.99356041, -0.99398047, -0.30597015,\n",
       "        -0.29383886, -0.34867002, -0.36020709, -0.46728972, -0.470726  ,\n",
       "        -0.5175644 , -0.48651817, -0.55685815, -0.51812865, -0.59579439,\n",
       "        -0.5179345 ],\n",
       "       [-0.47591069, -0.45219436, -0.48579267, -0.48981191, -0.57847358,\n",
       "        -0.54876616, -0.61882445, -0.99268659, -0.99280044, -0.99306033,\n",
       "        -0.99295359, -0.99338192, -0.99344287, -0.9938794 , -0.30223881,\n",
       "        -0.33649289, -0.32278936, -0.35994787, -0.49065421, -0.46370023,\n",
       "        -0.4941452 , -0.49589683, -0.58264947, -0.55321637, -0.62850467,\n",
       "        -0.53110379],\n",
       "       [-0.26792009, -0.27115987, -0.30080345, -0.24412226, -0.34246575,\n",
       "        -0.30434783, -0.40285101, -0.99250927, -0.99261854, -0.99288914,\n",
       "        -0.99278188, -0.99322495, -0.99327569, -0.9937324 , -0.22947761,\n",
       "        -0.28909953, -0.26096334, -0.35960139, -0.33878505, -0.29976581,\n",
       "        -0.32786885, -0.2919109 , -0.38100821, -0.32865497, -0.42523364,\n",
       "        -0.3394559 ],\n",
       "       [-0.31374853, -0.26449843, -0.2941407 , -0.23315047, -0.36516634,\n",
       "        -0.35957697, -0.44112478, -0.9923035 , -0.99241264, -0.99269787,\n",
       "        -0.99258055, -0.99304482, -0.99309553, -0.99356987, -0.2108209 ,\n",
       "        -0.21563981, -0.23652049, -0.35921021, -0.30607477, -0.26229508,\n",
       "        -0.29039813, -0.23563892, -0.35990621, -0.35204678, -0.43925234,\n",
       "        -0.32004852]])"
      ]
     },
     "execution_count": 42,
     "metadata": {},
     "output_type": "execute_result"
    }
   ],
   "source": [
    "context['X'][0]"
   ]
  },
  {
   "cell_type": "markdown",
   "metadata": {},
   "source": [
    "## keras.Sequential.DoubleLSTMTimeSeriesClassifier\n",
    "\n",
    "* Input: X, y\n",
    "* Output: \n",
    "* Effect: DoubleLSTM has been fitted."
   ]
  },
  {
   "cell_type": "code",
   "execution_count": 43,
   "metadata": {},
   "outputs": [],
   "source": [
    "step = 10\n",
    "context = pipeline.fit(**context, output_=step, start_=step)"
   ]
  }
 ],
 "metadata": {
  "kernelspec": {
   "display_name": "Python 3",
   "language": "python",
   "name": "python3"
  },
  "language_info": {
   "codemirror_mode": {
    "name": "ipython",
    "version": 3
   },
   "file_extension": ".py",
   "mimetype": "text/x-python",
   "name": "python",
   "nbconvert_exporter": "python",
   "pygments_lexer": "ipython3",
   "version": "3.6.12"
  }
 },
 "nbformat": 4,
 "nbformat_minor": 2
}

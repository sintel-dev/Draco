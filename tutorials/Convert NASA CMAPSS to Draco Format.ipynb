{
 "cells": [
  {
   "cell_type": "markdown",
   "id": "2f3d8acf",
   "metadata": {},
   "source": [
    "# Convert CMAPSS to Draco Format\n",
    "\n",
    "In this notebook we download [CMAPSS](https://ti.arc.nasa.gov/tech/dash/groups/pcoe/prognostic-data-repository/#turbofan) data and reformat it as Draco pipelines expect."
   ]
  },
  {
   "cell_type": "code",
   "execution_count": 1,
   "id": "f39b805c",
   "metadata": {},
   "outputs": [],
   "source": [
    "import datetime\n",
    "import numpy as np\n",
    "import pandas as pd\n",
    "\n",
    "import matplotlib.pyplot as plt"
   ]
  },
  {
   "cell_type": "markdown",
   "id": "626a2da0",
   "metadata": {},
   "source": [
    "## 1. Download Data"
   ]
  },
  {
   "cell_type": "code",
   "execution_count": 2,
   "id": "ff641cff",
   "metadata": {},
   "outputs": [],
   "source": [
    "import io\n",
    "import os\n",
    "import urllib\n",
    "import zipfile\n",
    "\n",
    "DATA_URL = 'https://d3-ai-greenguard.s3.amazonaws.com/CMAPSSData.zip'\n",
    "\n",
    "response = urllib.request.urlopen(DATA_URL)\n",
    "bytes_io = io.BytesIO(response.read())\n",
    "\n",
    "with zipfile.ZipFile(bytes_io) as zf:\n",
    "    zf.extractall('CMAPSSData')"
   ]
  },
  {
   "cell_type": "markdown",
   "id": "9c435699",
   "metadata": {},
   "source": [
    "## 2. Read Data"
   ]
  },
  {
   "cell_type": "code",
   "execution_count": 3,
   "id": "1bb002ac",
   "metadata": {},
   "outputs": [],
   "source": [
    "# columns\n",
    "\n",
    "index = ['unit number', 'time, in cycles']\n",
    "setting = ['operational setting {}'.format(i + 1) for i in range(0, 3)]\n",
    "sensor = ['sensor measurement {}'.format(i + 1) for i in range(0, 21)]\n",
    "\n",
    "all_columns = index + setting + sensor"
   ]
  },
  {
   "cell_type": "code",
   "execution_count": 4,
   "id": "74478b0f",
   "metadata": {},
   "outputs": [],
   "source": [
    "train = pd.read_csv('CMAPSSData/train_FD001.txt', sep=' ', header=None)\n",
    "train = train.dropna(axis=1)\n",
    "train.columns = all_columns\n",
    "\n",
    "test = pd.read_csv('CMAPSSData/test_FD001.txt', sep=' ', header=None)\n",
    "test = test.dropna(axis=1)\n",
    "test.columns = all_columns\n",
    "\n",
    "y_test = pd.read_csv('CMAPSSData/RUL_FD001.txt', sep=' ', header=None)\n",
    "y_test = y_test.dropna(axis=1)"
   ]
  },
  {
   "cell_type": "markdown",
   "id": "dd480185",
   "metadata": {},
   "source": [
    "## 3. Create columns\n",
    "\n",
    "### 3.a create `RUL` column\n",
    "How do we create **Remaining Useful Life (RUL)** column for the training dataset? We can assume that the last entry in the training dataset is the maximum life expectancy for that unit. Then each cycle we have will decrease by that number."
   ]
  },
  {
   "cell_type": "code",
   "execution_count": 5,
   "id": "eb0270ba",
   "metadata": {},
   "outputs": [],
   "source": [
    "def get_max(x):\n",
    "    return cycles_max[x]\n",
    "\n",
    "cycles_max = train.groupby(\"unit number\")[\"time, in cycles\"].max().to_dict()\n",
    "cycles_max = train['unit number'].apply(get_max)\n",
    "\n",
    "train['RUL'] = cycles_max - train[\"time, in cycles\"]"
   ]
  },
  {
   "cell_type": "markdown",
   "id": "57fbd3b9",
   "metadata": {},
   "source": [
    "### 3.b create `cutoff_time` column\n",
    "`cutoff_time` is a datetime column with relation to the `cycle` number. We pick a start date and start incrementing from there."
   ]
  },
  {
   "cell_type": "code",
   "execution_count": 6,
   "id": "3e320356",
   "metadata": {},
   "outputs": [],
   "source": [
    "def get_timestamp(x):\n",
    "    return start + datetime.timedelta(minutes=x * 10)\n",
    "\n",
    "start = datetime.datetime(2013, 1, 12)\n",
    "train['timestamp'] = train['time, in cycles'].apply(get_timestamp)"
   ]
  },
  {
   "cell_type": "code",
   "execution_count": 7,
   "id": "11f78b71",
   "metadata": {},
   "outputs": [],
   "source": [
    "def get_timestamp_test(x):\n",
    "    return last[x['unit number']] + datetime.timedelta(minutes=x['time, in cycles'] * 10)\n",
    "\n",
    "last = train.groupby('unit number').last()['timestamp'].to_dict()\n",
    "test['timestamp'] = test.apply(get_timestamp_test, axis=1)"
   ]
  },
  {
   "cell_type": "markdown",
   "id": "95bec88f",
   "metadata": {},
   "source": [
    "### 4. Format Data\n",
    "\n",
    "make `label_times` have three columns, namely: `['turbine_id', 'cutoff_time', 'target']`."
   ]
  },
  {
   "cell_type": "code",
   "execution_count": 8,
   "id": "1ce4320e",
   "metadata": {},
   "outputs": [
    {
     "data": {
      "text/html": [
       "<div>\n",
       "<style scoped>\n",
       "    .dataframe tbody tr th:only-of-type {\n",
       "        vertical-align: middle;\n",
       "    }\n",
       "\n",
       "    .dataframe tbody tr th {\n",
       "        vertical-align: top;\n",
       "    }\n",
       "\n",
       "    .dataframe thead th {\n",
       "        text-align: right;\n",
       "    }\n",
       "</style>\n",
       "<table border=\"1\" class=\"dataframe\">\n",
       "  <thead>\n",
       "    <tr style=\"text-align: right;\">\n",
       "      <th></th>\n",
       "      <th>turbine_id</th>\n",
       "      <th>cutoff_time</th>\n",
       "      <th>target</th>\n",
       "    </tr>\n",
       "  </thead>\n",
       "  <tbody>\n",
       "    <tr>\n",
       "      <th>25</th>\n",
       "      <td>1</td>\n",
       "      <td>2013-01-12 04:20:00</td>\n",
       "      <td>166</td>\n",
       "    </tr>\n",
       "    <tr>\n",
       "      <th>26</th>\n",
       "      <td>1</td>\n",
       "      <td>2013-01-12 04:30:00</td>\n",
       "      <td>165</td>\n",
       "    </tr>\n",
       "    <tr>\n",
       "      <th>27</th>\n",
       "      <td>1</td>\n",
       "      <td>2013-01-12 04:40:00</td>\n",
       "      <td>164</td>\n",
       "    </tr>\n",
       "    <tr>\n",
       "      <th>28</th>\n",
       "      <td>1</td>\n",
       "      <td>2013-01-12 04:50:00</td>\n",
       "      <td>163</td>\n",
       "    </tr>\n",
       "    <tr>\n",
       "      <th>29</th>\n",
       "      <td>1</td>\n",
       "      <td>2013-01-12 05:00:00</td>\n",
       "      <td>162</td>\n",
       "    </tr>\n",
       "  </tbody>\n",
       "</table>\n",
       "</div>"
      ],
      "text/plain": [
       "    turbine_id         cutoff_time  target\n",
       "25           1 2013-01-12 04:20:00     166\n",
       "26           1 2013-01-12 04:30:00     165\n",
       "27           1 2013-01-12 04:40:00     164\n",
       "28           1 2013-01-12 04:50:00     163\n",
       "29           1 2013-01-12 05:00:00     162"
      ]
     },
     "execution_count": 8,
     "metadata": {},
     "output_type": "execute_result"
    }
   ],
   "source": [
    "train_label_times = train[['unit number', 'timestamp', 'RUL']].copy()\n",
    "train_label_times.columns = ['turbine_id', 'cutoff_time', 'target']\n",
    "\n",
    "# drop first 24 occurances\n",
    "train_label_times = train_label_times[train_label_times.groupby('turbine_id').cumcount('turbine_id') > 24]\n",
    "train_label_times.head()"
   ]
  },
  {
   "cell_type": "code",
   "execution_count": 9,
   "id": "f320e753",
   "metadata": {},
   "outputs": [
    {
     "data": {
      "text/html": [
       "<div>\n",
       "<style scoped>\n",
       "    .dataframe tbody tr th:only-of-type {\n",
       "        vertical-align: middle;\n",
       "    }\n",
       "\n",
       "    .dataframe tbody tr th {\n",
       "        vertical-align: top;\n",
       "    }\n",
       "\n",
       "    .dataframe thead th {\n",
       "        text-align: right;\n",
       "    }\n",
       "</style>\n",
       "<table border=\"1\" class=\"dataframe\">\n",
       "  <thead>\n",
       "    <tr style=\"text-align: right;\">\n",
       "      <th></th>\n",
       "      <th>turbine_id</th>\n",
       "      <th>cutoff_time</th>\n",
       "      <th>target</th>\n",
       "    </tr>\n",
       "  </thead>\n",
       "  <tbody>\n",
       "    <tr>\n",
       "      <th>0</th>\n",
       "      <td>1</td>\n",
       "      <td>2013-01-13 13:10:00</td>\n",
       "      <td>112.0</td>\n",
       "    </tr>\n",
       "    <tr>\n",
       "      <th>1</th>\n",
       "      <td>2</td>\n",
       "      <td>2013-01-14 08:00:00</td>\n",
       "      <td>98.0</td>\n",
       "    </tr>\n",
       "    <tr>\n",
       "      <th>2</th>\n",
       "      <td>3</td>\n",
       "      <td>2013-01-14 02:50:00</td>\n",
       "      <td>69.0</td>\n",
       "    </tr>\n",
       "    <tr>\n",
       "      <th>3</th>\n",
       "      <td>4</td>\n",
       "      <td>2013-01-14 01:10:00</td>\n",
       "      <td>82.0</td>\n",
       "    </tr>\n",
       "    <tr>\n",
       "      <th>4</th>\n",
       "      <td>5</td>\n",
       "      <td>2013-01-14 13:10:00</td>\n",
       "      <td>91.0</td>\n",
       "    </tr>\n",
       "  </tbody>\n",
       "</table>\n",
       "</div>"
      ],
      "text/plain": [
       "   turbine_id         cutoff_time  target\n",
       "0           1 2013-01-13 13:10:00   112.0\n",
       "1           2 2013-01-14 08:00:00    98.0\n",
       "2           3 2013-01-14 02:50:00    69.0\n",
       "3           4 2013-01-14 01:10:00    82.0\n",
       "4           5 2013-01-14 13:10:00    91.0"
      ]
     },
     "execution_count": 9,
     "metadata": {},
     "output_type": "execute_result"
    }
   ],
   "source": [
    "test_label_times = test[['unit number', 'timestamp']].groupby('unit number').last().reset_index()\n",
    "test_label_times.columns = ['turbine_id', 'cutoff_time']\n",
    "test_label_times['target'] = np.array(y_test).astype('float32')\n",
    "test_label_times.head()"
   ]
  },
  {
   "cell_type": "code",
   "execution_count": 10,
   "id": "50be8dc4",
   "metadata": {},
   "outputs": [],
   "source": [
    "reading_columns = ['unit number', 'timestamp'] + setting + sensor\n",
    "readings = pd.concat([train, test])[reading_columns]\n",
    "readings = readings.melt(id_vars=['unit number', 'timestamp'])\n",
    "readings.columns = ['turbine_id', 'timestamp', 'signal_id', 'value']"
   ]
  },
  {
   "cell_type": "markdown",
   "id": "01a77e60",
   "metadata": {},
   "source": [
    "## 5. Save Data"
   ]
  },
  {
   "cell_type": "code",
   "execution_count": 11,
   "id": "5f622ff7",
   "metadata": {},
   "outputs": [],
   "source": [
    "readings.to_csv('rul_readings.csv.gz', compression='gzip', index=False)\n",
    "train_label_times.to_csv('rul_train_target_times.csv.gz', compression='gzip', index=False)\n",
    "test_label_times.to_csv('rul_test_target_times.csv.gz', compression='gzip', index=False)"
   ]
  }
 ],
 "metadata": {
  "kernelspec": {
   "display_name": "Python 3 (ipykernel)",
   "language": "python",
   "name": "python3"
  },
  "language_info": {
   "codemirror_mode": {
    "name": "ipython",
    "version": 3
   },
   "file_extension": ".py",
   "mimetype": "text/x-python",
   "name": "python",
   "nbconvert_exporter": "python",
   "pygments_lexer": "ipython3",
   "version": "3.7.11"
  }
 },
 "nbformat": 4,
 "nbformat_minor": 5
}
